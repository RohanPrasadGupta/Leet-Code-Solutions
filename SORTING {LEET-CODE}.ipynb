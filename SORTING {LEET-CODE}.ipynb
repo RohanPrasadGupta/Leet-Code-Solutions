{
 "cells": [
  {
   "cell_type": "code",
   "execution_count": null,
   "id": "f5baa5ba",
   "metadata": {},
   "outputs": [],
   "source": []
  },
  {
   "cell_type": "markdown",
   "id": "dd94f116",
   "metadata": {},
   "source": [
    "# 2160. Minimum Sum of Four Digit Number After Splitting Digits"
   ]
  },
  {
   "cell_type": "code",
   "execution_count": 48,
   "id": "f0d7b7ea",
   "metadata": {},
   "outputs": [
    {
     "data": {
      "text/plain": [
       "'This is a sentence'"
      ]
     },
     "execution_count": 48,
     "metadata": {},
     "output_type": "execute_result"
    }
   ],
   "source": [
    "def minimumSum(s):\n",
    "    #print(s)\n",
    "    \n",
    "    words = s.split(\" \")\n",
    "    wordArr = [0]*len(words)\n",
    "    \n",
    "    #print(len(wordArr))\n",
    "    for word in words:\n",
    "        wordArr[int(word[-1])-1]= word[:-1]\n",
    "        #print(word[-1],word[:-1])\n",
    "      \n",
    "    # print(wordArr)\n",
    "    return(' '.join(wordArr))\n",
    "\n",
    "    \n",
    "    \n",
    "s = \"is2 sentence4 This1 a3\"\n",
    "minimumSum(s)"
   ]
  },
  {
   "cell_type": "code",
   "execution_count": 49,
   "id": "4c3b17d6",
   "metadata": {},
   "outputs": [
    {
     "data": {
      "text/plain": [
       "'bwKhelcNiyNBpjGUN l lGaWqAkfVIFhqBzRs'"
      ]
     },
     "execution_count": 49,
     "metadata": {},
     "output_type": "execute_result"
    }
   ],
   "source": [
    "s = \"lGaWqAkfVIFhqBzRs3 l2 bwKhelcNiyNBpjGUN1\"\n",
    "minimumSum(s)"
   ]
  },
  {
   "cell_type": "code",
   "execution_count": null,
   "id": "947e69bc",
   "metadata": {},
   "outputs": [],
   "source": []
  },
  {
   "cell_type": "code",
   "execution_count": null,
   "id": "fab44185",
   "metadata": {},
   "outputs": [],
   "source": []
  },
  {
   "cell_type": "markdown",
   "id": "bd754f98",
   "metadata": {},
   "source": [
    "# 2037. Minimum Number of Moves to Seat Everyone"
   ]
  },
  {
   "cell_type": "code",
   "execution_count": 103,
   "id": "022eefe8",
   "metadata": {},
   "outputs": [
    {
     "data": {
      "text/plain": [
       "4"
      ]
     },
     "execution_count": 103,
     "metadata": {},
     "output_type": "execute_result"
    }
   ],
   "source": [
    "def minMovesToSeat(seats,students):\n",
    "    #print(seats,students)\n",
    "    seats.sort()\n",
    "    students.sort()\n",
    "    #print(seats,students)\n",
    "    #gapSeat = []\n",
    "    res = 0\n",
    "    for i in range(0,len(seats)):\n",
    "        #gapSeat.append(abs(seats[i]) - abs(students[i]))\n",
    "        res += abs(students[i] - seats[i])\n",
    "    \n",
    "    return res\n",
    "    \n",
    "seats = [3,1,5]\n",
    "students = [2,7,4]\n",
    "minMovesToSeat(seats,students)"
   ]
  },
  {
   "cell_type": "code",
   "execution_count": 104,
   "id": "25dd112c",
   "metadata": {},
   "outputs": [
    {
     "data": {
      "text/plain": [
       "7"
      ]
     },
     "execution_count": 104,
     "metadata": {},
     "output_type": "execute_result"
    }
   ],
   "source": [
    "seats = [4,1,5,9]\n",
    "students = [1,3,2,6]\n",
    "minMovesToSeat(seats,students)"
   ]
  },
  {
   "cell_type": "code",
   "execution_count": 105,
   "id": "916ce0bf",
   "metadata": {},
   "outputs": [
    {
     "data": {
      "text/plain": [
       "4"
      ]
     },
     "execution_count": 105,
     "metadata": {},
     "output_type": "execute_result"
    }
   ],
   "source": [
    "seats = [2,2,6,6]\n",
    "students = [1,3,2,6]\n",
    "minMovesToSeat(seats,students)"
   ]
  },
  {
   "cell_type": "code",
   "execution_count": 106,
   "id": "9c527083",
   "metadata": {},
   "outputs": [
    {
     "data": {
      "text/plain": [
       "19"
      ]
     },
     "execution_count": 106,
     "metadata": {},
     "output_type": "execute_result"
    }
   ],
   "source": [
    "seats =[12,14,19,19,12]\n",
    "students=[19,2,17,20,7]\n",
    "minMovesToSeat(seats,students)"
   ]
  },
  {
   "cell_type": "code",
   "execution_count": null,
   "id": "5260d118",
   "metadata": {},
   "outputs": [],
   "source": []
  },
  {
   "cell_type": "markdown",
   "id": "739b36e3",
   "metadata": {},
   "source": [
    "# 1913. Maximum Product Difference Between Two Pairs"
   ]
  },
  {
   "cell_type": "code",
   "execution_count": null,
   "id": "e25ed5c3",
   "metadata": {},
   "outputs": [],
   "source": []
  },
  {
   "cell_type": "code",
   "execution_count": 123,
   "id": "5da68888",
   "metadata": {},
   "outputs": [],
   "source": [
    "def maxProductDifference(nums):\n",
    "    nums.sort()\n",
    "    return ((nums[-1]*nums[-2])-(nums[0]*nums[1]))"
   ]
  },
  {
   "cell_type": "code",
   "execution_count": 124,
   "id": "bb2ef226",
   "metadata": {},
   "outputs": [
    {
     "data": {
      "text/plain": [
       "34"
      ]
     },
     "execution_count": 124,
     "metadata": {},
     "output_type": "execute_result"
    }
   ],
   "source": [
    "nums = [5,6,2,7,4]\n",
    "maxProductDifference(nums)"
   ]
  },
  {
   "cell_type": "code",
   "execution_count": 125,
   "id": "58df4d15",
   "metadata": {},
   "outputs": [
    {
     "data": {
      "text/plain": [
       "64"
      ]
     },
     "execution_count": 125,
     "metadata": {},
     "output_type": "execute_result"
    }
   ],
   "source": [
    "nums = [4,2,5,9,7,4,8]\n",
    "maxProductDifference(nums)"
   ]
  },
  {
   "cell_type": "code",
   "execution_count": null,
   "id": "c74c416c",
   "metadata": {},
   "outputs": [],
   "source": []
  },
  {
   "cell_type": "markdown",
   "id": "162b5bc9",
   "metadata": {},
   "source": [
    "# 2500. Delete Greatest Value in Each Row "
   ]
  },
  {
   "cell_type": "code",
   "execution_count": 21,
   "id": "12f79e21",
   "metadata": {},
   "outputs": [],
   "source": [
    "def deleteGreatestValue(grid):\n",
    "    m , n = len(grid) , len(grid[0])\n",
    "    #print(m,n)\n",
    "    res = 0\n",
    "    while n>0:\n",
    "        max_num = -float('inf')\n",
    "        for i in range(m):\n",
    "            #print(grid[i])\n",
    "            max_arr =  max(grid[i])\n",
    "            max_num = max(max_arr,max_num)\n",
    "            grid[i].remove(max_arr)\n",
    "        \n",
    "        res += max_num\n",
    "        n-=1\n",
    "        \n",
    "    return res\n",
    "    \n",
    "\n",
    "    \n"
   ]
  },
  {
   "cell_type": "code",
   "execution_count": 22,
   "id": "ebfa9252",
   "metadata": {},
   "outputs": [
    {
     "data": {
      "text/plain": [
       "8"
      ]
     },
     "execution_count": 22,
     "metadata": {},
     "output_type": "execute_result"
    }
   ],
   "source": [
    "grid = [[1,2,4],[3,3,1]]\n",
    "deleteGreatestValue(grid)"
   ]
  },
  {
   "cell_type": "code",
   "execution_count": 23,
   "id": "2faf9a1e",
   "metadata": {},
   "outputs": [
    {
     "data": {
      "text/plain": [
       "10"
      ]
     },
     "execution_count": 23,
     "metadata": {},
     "output_type": "execute_result"
    }
   ],
   "source": [
    "grid = [[10]]\n",
    "deleteGreatestValue(grid)"
   ]
  },
  {
   "cell_type": "code",
   "execution_count": null,
   "id": "77023df5",
   "metadata": {},
   "outputs": [],
   "source": []
  },
  {
   "cell_type": "code",
   "execution_count": null,
   "id": "760afe48",
   "metadata": {},
   "outputs": [],
   "source": []
  },
  {
   "cell_type": "markdown",
   "id": "d797d9f3",
   "metadata": {},
   "source": [
    "# 2733. Neither Minimum nor Maximum"
   ]
  },
  {
   "cell_type": "code",
   "execution_count": 24,
   "id": "05498778",
   "metadata": {},
   "outputs": [],
   "source": [
    "def findNonMinOrMax(nums):\n",
    "    #print(nums)\n",
    "    nums.sort()\n",
    "    print(nums)\n",
    "    n = len(nums)\n",
    "    if  n>=3:\n",
    "        i = 0\n",
    "        j = n-1\n",
    "        m = i+j//2\n",
    "        return nums[m]\n",
    "    \n",
    "    else:\n",
    "        return -1\n",
    "    \n",
    "    "
   ]
  },
  {
   "cell_type": "code",
   "execution_count": 25,
   "id": "da8044fb",
   "metadata": {},
   "outputs": [
    {
     "name": "stdout",
     "output_type": "stream",
     "text": [
      "[1, 2, 3, 4]\n"
     ]
    },
    {
     "data": {
      "text/plain": [
       "2"
      ]
     },
     "execution_count": 25,
     "metadata": {},
     "output_type": "execute_result"
    }
   ],
   "source": [
    "nums = [3,2,1,4]\n",
    "findNonMinOrMax(nums)"
   ]
  },
  {
   "cell_type": "code",
   "execution_count": 26,
   "id": "5ddbbd06",
   "metadata": {},
   "outputs": [
    {
     "name": "stdout",
     "output_type": "stream",
     "text": [
      "[1, 2]\n"
     ]
    },
    {
     "data": {
      "text/plain": [
       "-1"
      ]
     },
     "execution_count": 26,
     "metadata": {},
     "output_type": "execute_result"
    }
   ],
   "source": [
    "nums = [1,2]\n",
    "findNonMinOrMax(nums)"
   ]
  },
  {
   "cell_type": "code",
   "execution_count": 27,
   "id": "6e90a4a6",
   "metadata": {},
   "outputs": [
    {
     "name": "stdout",
     "output_type": "stream",
     "text": [
      "[1, 2, 3]\n"
     ]
    },
    {
     "data": {
      "text/plain": [
       "2"
      ]
     },
     "execution_count": 27,
     "metadata": {},
     "output_type": "execute_result"
    }
   ],
   "source": [
    "nums = [2,1,3]\n",
    "findNonMinOrMax(nums)"
   ]
  },
  {
   "cell_type": "code",
   "execution_count": null,
   "id": "c292618f",
   "metadata": {},
   "outputs": [],
   "source": []
  },
  {
   "cell_type": "code",
   "execution_count": null,
   "id": "3ce07c8f",
   "metadata": {},
   "outputs": [],
   "source": []
  },
  {
   "cell_type": "markdown",
   "id": "c7720144",
   "metadata": {},
   "source": [
    "# 1051. Height Checker"
   ]
  },
  {
   "cell_type": "code",
   "execution_count": 54,
   "id": "3a48ca40",
   "metadata": {},
   "outputs": [],
   "source": [
    "def heightChecker(heights):\n",
    "    dummyHeights = heights[:]\n",
    "    dummyHeights.sort()\n",
    "    #print(dummyHeights)\n",
    "    #print(heights)\n",
    "    res = 0\n",
    "    for i in range(0,len(heights)):\n",
    "        if heights[i] != dummyHeights[i]:\n",
    "            res+=1\n",
    "    \n",
    "    return res\n",
    "    \n",
    "    \n",
    "    "
   ]
  },
  {
   "cell_type": "code",
   "execution_count": 55,
   "id": "102f8328",
   "metadata": {},
   "outputs": [
    {
     "data": {
      "text/plain": [
       "3"
      ]
     },
     "execution_count": 55,
     "metadata": {},
     "output_type": "execute_result"
    }
   ],
   "source": [
    "heights = [1,1,4,2,1,3]\n",
    "heightChecker(heights)"
   ]
  },
  {
   "cell_type": "code",
   "execution_count": 56,
   "id": "8bc3a655",
   "metadata": {},
   "outputs": [
    {
     "data": {
      "text/plain": [
       "0"
      ]
     },
     "execution_count": 56,
     "metadata": {},
     "output_type": "execute_result"
    }
   ],
   "source": [
    "heights = [1,2,3,4,5]\n",
    "heightChecker(heights)"
   ]
  },
  {
   "cell_type": "code",
   "execution_count": 57,
   "id": "a4016db0",
   "metadata": {},
   "outputs": [
    {
     "data": {
      "text/plain": [
       "5"
      ]
     },
     "execution_count": 57,
     "metadata": {},
     "output_type": "execute_result"
    }
   ],
   "source": [
    "heights = [5,1,2,3,4]\n",
    "heightChecker(heights)"
   ]
  },
  {
   "cell_type": "code",
   "execution_count": null,
   "id": "372cf46c",
   "metadata": {},
   "outputs": [],
   "source": []
  },
  {
   "cell_type": "markdown",
   "id": "0bb7da6f",
   "metadata": {},
   "source": [
    "# 2089. Find Target Indices After Sorting Array"
   ]
  },
  {
   "cell_type": "code",
   "execution_count": 70,
   "id": "a09a5989",
   "metadata": {},
   "outputs": [],
   "source": [
    "def targetIndices(nums,target):\n",
    "    res = []\n",
    "    nums.sort()\n",
    "    for i in range(0,len(nums)):\n",
    "        if nums[i] ==  target:\n",
    "            res.append(i)\n",
    "    \n",
    "    return res"
   ]
  },
  {
   "cell_type": "code",
   "execution_count": null,
   "id": "22ddcce3",
   "metadata": {},
   "outputs": [],
   "source": []
  },
  {
   "cell_type": "code",
   "execution_count": 71,
   "id": "1599010b",
   "metadata": {},
   "outputs": [
    {
     "data": {
      "text/plain": [
       "[1, 2]"
      ]
     },
     "execution_count": 71,
     "metadata": {},
     "output_type": "execute_result"
    }
   ],
   "source": [
    "nums = [1,2,5,2,3]\n",
    "target = 2\n",
    "targetIndices(nums,target)"
   ]
  },
  {
   "cell_type": "code",
   "execution_count": 72,
   "id": "ddacc403",
   "metadata": {},
   "outputs": [
    {
     "data": {
      "text/plain": [
       "[3]"
      ]
     },
     "execution_count": 72,
     "metadata": {},
     "output_type": "execute_result"
    }
   ],
   "source": [
    "nums = [1,2,5,2,3]\n",
    "target = 3\n",
    "targetIndices(nums,target)"
   ]
  },
  {
   "cell_type": "code",
   "execution_count": 73,
   "id": "14d68a8c",
   "metadata": {},
   "outputs": [
    {
     "data": {
      "text/plain": [
       "[4]"
      ]
     },
     "execution_count": 73,
     "metadata": {},
     "output_type": "execute_result"
    }
   ],
   "source": [
    "nums = [1,2,5,2,3]\n",
    "target = 5\n",
    "targetIndices(nums,target)"
   ]
  },
  {
   "cell_type": "code",
   "execution_count": null,
   "id": "bd49a230",
   "metadata": {},
   "outputs": [],
   "source": []
  },
  {
   "cell_type": "code",
   "execution_count": null,
   "id": "337a2224",
   "metadata": {},
   "outputs": [],
   "source": []
  },
  {
   "cell_type": "markdown",
   "id": "4920443d",
   "metadata": {},
   "source": [
    " # 905. Sort Array By Parity"
   ]
  },
  {
   "cell_type": "code",
   "execution_count": null,
   "id": "dc8bbc23",
   "metadata": {},
   "outputs": [],
   "source": []
  },
  {
   "cell_type": "code",
   "execution_count": 91,
   "id": "04508ecd",
   "metadata": {},
   "outputs": [],
   "source": [
    "def sortArrayByParity(nums):\n",
    "    #print(nums)\n",
    "    even = []\n",
    "    odd = []\n",
    "    for i in range(0,len(nums)):\n",
    "        if nums[i]%2==0:\n",
    "            even.append(nums[i])\n",
    "        else:\n",
    "            odd.append(nums[i])\n",
    "    \n",
    "    return even+odd\n",
    "    "
   ]
  },
  {
   "cell_type": "code",
   "execution_count": 92,
   "id": "97c65274",
   "metadata": {},
   "outputs": [
    {
     "data": {
      "text/plain": [
       "[2, 4, 3, 1]"
      ]
     },
     "execution_count": 92,
     "metadata": {},
     "output_type": "execute_result"
    }
   ],
   "source": [
    "nums = [3,1,2,4]\n",
    "sortArrayByParity(nums)"
   ]
  },
  {
   "cell_type": "code",
   "execution_count": 93,
   "id": "615eab26",
   "metadata": {},
   "outputs": [
    {
     "data": {
      "text/plain": [
       "[0]"
      ]
     },
     "execution_count": 93,
     "metadata": {},
     "output_type": "execute_result"
    }
   ],
   "source": [
    "nums = [0]\n",
    "sortArrayByParity(nums)"
   ]
  },
  {
   "cell_type": "code",
   "execution_count": null,
   "id": "5317e4ae",
   "metadata": {},
   "outputs": [],
   "source": []
  },
  {
   "cell_type": "markdown",
   "id": "5e99c68f",
   "metadata": {},
   "source": [
    "# 1337. The K Weakest Rows in a Matrix"
   ]
  },
  {
   "cell_type": "code",
   "execution_count": 166,
   "id": "d9e0d4ce",
   "metadata": {},
   "outputs": [],
   "source": [
    "def kWeakestRows(mat,k):\n",
    "    #print(mat,k)\n",
    "    countRes = {}\n",
    "    for i in range(0,len(mat)):\n",
    "        #print(mat[i])\n",
    "        count = 0\n",
    "        for ele in mat[i]:\n",
    "            if ele == 1:\n",
    "                count+=1\n",
    "        \n",
    "        countRes[i] = count\n",
    "    \n",
    "    #print(countRes)\n",
    "    \n",
    "    countRes = dict(sorted(countRes.items(), key=lambda item: item[1]))\n",
    "    #print(countRes)\n",
    "    \n",
    "    res = []\n",
    "    j = 0\n",
    "    for i in countRes:\n",
    "        res.append(i)\n",
    "        j+=1\n",
    "        \n",
    "        if j ==k:\n",
    "            return res\n",
    "        "
   ]
  },
  {
   "cell_type": "code",
   "execution_count": 167,
   "id": "2efc5876",
   "metadata": {},
   "outputs": [
    {
     "data": {
      "text/plain": [
       "[2, 0, 3]"
      ]
     },
     "execution_count": 167,
     "metadata": {},
     "output_type": "execute_result"
    }
   ],
   "source": [
    "mat = [[1,1,0,0,0],\n",
    " [1,1,1,1,0],\n",
    " [1,0,0,0,0],\n",
    " [1,1,0,0,0],\n",
    " [1,1,1,1,1]]\n",
    "k = 3\n",
    "kWeakestRows(mat,k)"
   ]
  },
  {
   "cell_type": "code",
   "execution_count": 168,
   "id": "c467d756",
   "metadata": {},
   "outputs": [
    {
     "data": {
      "text/plain": [
       "[0, 2]"
      ]
     },
     "execution_count": 168,
     "metadata": {},
     "output_type": "execute_result"
    }
   ],
   "source": [
    "mat = [[1,0,0,0],\n",
    " [1,1,1,1],\n",
    " [1,0,0,0],\n",
    " [1,0,0,0]]\n",
    "k = 2\n",
    "kWeakestRows(mat,k)"
   ]
  },
  {
   "cell_type": "code",
   "execution_count": 169,
   "id": "938901e4",
   "metadata": {},
   "outputs": [
    {
     "data": {
      "text/plain": [
       "[0]"
      ]
     },
     "execution_count": 169,
     "metadata": {},
     "output_type": "execute_result"
    }
   ],
   "source": [
    "mat =[[1,1,1,1,1,1],[1,1,1,1,1,1],[1,1,1,1,1,1]]\n",
    "k = 1\n",
    "kWeakestRows(mat,k)"
   ]
  },
  {
   "cell_type": "code",
   "execution_count": null,
   "id": "1b2cd9e7",
   "metadata": {},
   "outputs": [],
   "source": []
  },
  {
   "cell_type": "markdown",
   "id": "b65ec47a",
   "metadata": {},
   "source": [
    "#  1460. Make Two Arrays Equal by Reversing Subarrays"
   ]
  },
  {
   "cell_type": "code",
   "execution_count": null,
   "id": "3985342e",
   "metadata": {},
   "outputs": [],
   "source": []
  },
  {
   "cell_type": "code",
   "execution_count": 14,
   "id": "b550bdec",
   "metadata": {},
   "outputs": [],
   "source": [
    "def canBeEqual(target,arr):\n",
    "    #print(target,arr)\n",
    "    \n",
    "    tar_len = len(target)\n",
    "    arr_len = len(arr)\n",
    "    if tar_len!= arr_len:\n",
    "        return False\n",
    "    \n",
    "    target.sort()\n",
    "    arr.sort()\n",
    "    #print(target,arr)\n",
    "    \n",
    "    for i in range(0,tar_len):\n",
    "        #print(target[i],arr[i])\n",
    "        if target[i] != arr[i]:\n",
    "            return False\n",
    "    \n",
    "    return True\n",
    "    \n",
    "    \n",
    "    \n",
    "    \n",
    "    \n",
    "    "
   ]
  },
  {
   "cell_type": "code",
   "execution_count": 15,
   "id": "55a1708b",
   "metadata": {},
   "outputs": [
    {
     "data": {
      "text/plain": [
       "True"
      ]
     },
     "execution_count": 15,
     "metadata": {},
     "output_type": "execute_result"
    }
   ],
   "source": [
    "target = [1,2,3,4]\n",
    "arr = [2,4,1,3]\n",
    "canBeEqual(target,arr)"
   ]
  },
  {
   "cell_type": "code",
   "execution_count": 16,
   "id": "2348f494",
   "metadata": {},
   "outputs": [
    {
     "data": {
      "text/plain": [
       "False"
      ]
     },
     "execution_count": 16,
     "metadata": {},
     "output_type": "execute_result"
    }
   ],
   "source": [
    "target = [3,7,9]\n",
    "arr = [3,7,11]\n",
    "canBeEqual(target,arr)"
   ]
  },
  {
   "cell_type": "code",
   "execution_count": 17,
   "id": "9bba699d",
   "metadata": {},
   "outputs": [
    {
     "data": {
      "text/plain": [
       "True"
      ]
     },
     "execution_count": 17,
     "metadata": {},
     "output_type": "execute_result"
    }
   ],
   "source": [
    "target = [7]\n",
    "arr = [7]\n",
    "canBeEqual(target,arr)"
   ]
  },
  {
   "cell_type": "code",
   "execution_count": null,
   "id": "604d0660",
   "metadata": {},
   "outputs": [],
   "source": []
  },
  {
   "cell_type": "code",
   "execution_count": null,
   "id": "a00faf6b",
   "metadata": {},
   "outputs": [],
   "source": []
  },
  {
   "cell_type": "markdown",
   "id": "c6129baa",
   "metadata": {},
   "source": [
    "# ccsdc"
   ]
  },
  {
   "cell_type": "code",
   "execution_count": null,
   "id": "c87bf4ca",
   "metadata": {},
   "outputs": [],
   "source": []
  },
  {
   "cell_type": "code",
   "execution_count": 1,
   "id": "387c67e5",
   "metadata": {},
   "outputs": [],
   "source": [
    "def frequencySort(nums):\n",
    "    #print(nums)\n",
    "    numDic = dict()\n",
    "    \n",
    "    for i in nums:\n",
    "        if i in numDic:\n",
    "            numDic[i]+=1\n",
    "        else:\n",
    "            numDic[i] = 1\n",
    "    #SORTING NUMDIC ACCORDING TO THE VALUES OF THE KEY\n",
    "    #numDic = dict(sorted(numDic.items(), key=lambda item:item[1]))\n",
    "    #print(numDic)\n",
    "    \n",
    "    return sorted(nums, key = lambda x: (numDic[x], -x))\n",
    "    \n",
    "    \n",
    "    \n",
    "    \n",
    "    "
   ]
  },
  {
   "cell_type": "code",
   "execution_count": 2,
   "id": "bab37728",
   "metadata": {},
   "outputs": [
    {
     "data": {
      "text/plain": [
       "[3, 1, 1, 2, 2, 2]"
      ]
     },
     "execution_count": 2,
     "metadata": {},
     "output_type": "execute_result"
    }
   ],
   "source": [
    "nums = [1,1,2,2,2,3]\n",
    "frequencySort(nums)"
   ]
  },
  {
   "cell_type": "code",
   "execution_count": 3,
   "id": "c1549003",
   "metadata": {},
   "outputs": [
    {
     "data": {
      "text/plain": [
       "[5, -1, 4, 4, -6, -6, 1, 1, 1]"
      ]
     },
     "execution_count": 3,
     "metadata": {},
     "output_type": "execute_result"
    }
   ],
   "source": [
    "nums = [-1,1,-6,4,5,-6,1,4,1]\n",
    "frequencySort(nums)"
   ]
  },
  {
   "cell_type": "code",
   "execution_count": 4,
   "id": "9532e3aa",
   "metadata": {},
   "outputs": [
    {
     "data": {
      "text/plain": [
       "[1, 3, 3, 2, 2]"
      ]
     },
     "execution_count": 4,
     "metadata": {},
     "output_type": "execute_result"
    }
   ],
   "source": [
    "nums = [2,3,1,3,2]\n",
    "frequencySort(nums)"
   ]
  },
  {
   "cell_type": "code",
   "execution_count": null,
   "id": "2ac6079a",
   "metadata": {},
   "outputs": [],
   "source": []
  },
  {
   "cell_type": "code",
   "execution_count": null,
   "id": "8e1916df",
   "metadata": {},
   "outputs": [],
   "source": []
  },
  {
   "cell_type": "code",
   "execution_count": null,
   "id": "5219286d",
   "metadata": {},
   "outputs": [],
   "source": []
  },
  {
   "cell_type": "markdown",
   "id": "8e032c8a",
   "metadata": {},
   "source": [
    "# 31356. Sort Integers by The Number of 1 Bits"
   ]
  },
  {
   "cell_type": "code",
   "execution_count": 64,
   "id": "81097521",
   "metadata": {},
   "outputs": [],
   "source": [
    "def sortByBits(arr):\n",
    "    print(arr)\n",
    "    \n",
    "    sortedArr = sorted(arr, key=lambda x:(bin(x).count('1') , x))\n",
    "    \n",
    "    return sortedArr\n",
    "    \n",
    "\n"
   ]
  },
  {
   "cell_type": "code",
   "execution_count": 65,
   "id": "05f0eed7",
   "metadata": {},
   "outputs": [
    {
     "name": "stdout",
     "output_type": "stream",
     "text": [
      "[1024, 512, 256, 128, 64, 32, 16, 8, 4, 2, 1]\n"
     ]
    },
    {
     "data": {
      "text/plain": [
       "[1, 2, 4, 8, 16, 32, 64, 128, 256, 512, 1024]"
      ]
     },
     "execution_count": 65,
     "metadata": {},
     "output_type": "execute_result"
    }
   ],
   "source": [
    "arr = [1024,512,256,128,64,32,16,8,4,2,1]\n",
    "sortByBits(arr)"
   ]
  },
  {
   "cell_type": "code",
   "execution_count": 66,
   "id": "b9e1ec85",
   "metadata": {
    "scrolled": true
   },
   "outputs": [
    {
     "name": "stdout",
     "output_type": "stream",
     "text": [
      "[0, 1, 2, 3, 4, 5, 6, 7, 8]\n"
     ]
    },
    {
     "data": {
      "text/plain": [
       "[0, 1, 2, 4, 8, 3, 5, 6, 7]"
      ]
     },
     "execution_count": 66,
     "metadata": {},
     "output_type": "execute_result"
    }
   ],
   "source": [
    "arr = [0,1,2,3,4,5,6,7,8]\n",
    "sortByBits(arr)"
   ]
  },
  {
   "cell_type": "code",
   "execution_count": null,
   "id": "841ba064",
   "metadata": {},
   "outputs": [],
   "source": []
  },
  {
   "cell_type": "code",
   "execution_count": null,
   "id": "38ca5de5",
   "metadata": {},
   "outputs": [],
   "source": []
  },
  {
   "cell_type": "code",
   "execution_count": null,
   "id": "2e9a0b5c",
   "metadata": {},
   "outputs": [],
   "source": []
  },
  {
   "cell_type": "markdown",
   "id": "d192e389",
   "metadata": {},
   "source": [
    "# 2154. Keep Multiplying Found Values by Two"
   ]
  },
  {
   "cell_type": "code",
   "execution_count": 11,
   "id": "61107f9d",
   "metadata": {},
   "outputs": [],
   "source": [
    "def findFinalValue(nums,original):\n",
    "    print(nums,original)\n",
    "    nums.sort()\n",
    "    \n",
    "    for i in range(0,len(nums)):\n",
    "        if nums[i] == original:\n",
    "            original = original*2\n",
    "    \n",
    "    return original"
   ]
  },
  {
   "cell_type": "code",
   "execution_count": 12,
   "id": "190a8cb5",
   "metadata": {},
   "outputs": [
    {
     "name": "stdout",
     "output_type": "stream",
     "text": [
      "[5, 3, 6, 1, 12] 3\n"
     ]
    },
    {
     "data": {
      "text/plain": [
       "24"
      ]
     },
     "execution_count": 12,
     "metadata": {},
     "output_type": "execute_result"
    }
   ],
   "source": [
    "nums = [5,3,6,1,12]\n",
    "original = 3\n",
    "findFinalValue(nums,original)"
   ]
  },
  {
   "cell_type": "code",
   "execution_count": 13,
   "id": "8adef2dc",
   "metadata": {},
   "outputs": [
    {
     "name": "stdout",
     "output_type": "stream",
     "text": [
      "[2, 7, 9] 4\n"
     ]
    },
    {
     "data": {
      "text/plain": [
       "4"
      ]
     },
     "execution_count": 13,
     "metadata": {},
     "output_type": "execute_result"
    }
   ],
   "source": [
    "nums = [2,7,9]\n",
    "original = 4\n",
    "findFinalValue(nums,original)"
   ]
  },
  {
   "cell_type": "code",
   "execution_count": 14,
   "id": "54ba69a1",
   "metadata": {},
   "outputs": [
    {
     "name": "stdout",
     "output_type": "stream",
     "text": [
      "[8, 19, 4, 2, 15, 3] 2\n"
     ]
    },
    {
     "data": {
      "text/plain": [
       "16"
      ]
     },
     "execution_count": 14,
     "metadata": {},
     "output_type": "execute_result"
    }
   ],
   "source": [
    "nums =[8,19,4,2,15,3]\n",
    "original =2\n",
    "findFinalValue(nums,original)"
   ]
  },
  {
   "cell_type": "code",
   "execution_count": null,
   "id": "e4138af4",
   "metadata": {},
   "outputs": [],
   "source": []
  },
  {
   "cell_type": "code",
   "execution_count": null,
   "id": "630fcf2e",
   "metadata": {},
   "outputs": [],
   "source": []
  },
  {
   "cell_type": "code",
   "execution_count": null,
   "id": "a405db78",
   "metadata": {},
   "outputs": [],
   "source": []
  }
 ],
 "metadata": {
  "kernelspec": {
   "display_name": "Python 3 (ipykernel)",
   "language": "python",
   "name": "python3"
  },
  "language_info": {
   "codemirror_mode": {
    "name": "ipython",
    "version": 3
   },
   "file_extension": ".py",
   "mimetype": "text/x-python",
   "name": "python",
   "nbconvert_exporter": "python",
   "pygments_lexer": "ipython3",
   "version": "3.11.3"
  }
 },
 "nbformat": 4,
 "nbformat_minor": 5
}
