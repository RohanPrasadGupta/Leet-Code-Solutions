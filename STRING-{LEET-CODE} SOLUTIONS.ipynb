{
 "cells": [
  {
   "cell_type": "code",
   "execution_count": null,
   "id": "19c29027",
   "metadata": {},
   "outputs": [],
   "source": []
  },
  {
   "cell_type": "markdown",
   "id": "8daec9e5",
   "metadata": {},
   "source": [
    "# 17. Letter Combinations of a Phone Number"
   ]
  },
  {
   "cell_type": "code",
   "execution_count": 25,
   "id": "f1202635",
   "metadata": {},
   "outputs": [],
   "source": [
    "def letterCombination(digits):\n",
    "    #print(digits)\n",
    "    res = []\n",
    "    num_letter = {'2':'abc','3':'def','4':'ghi','5':'jkl','6':'mno','7':'pqrs','8':'tuv','9':'wxyz'}\n",
    "    #print(num_letter)\n",
    "    \n",
    "    if len(digits)<1:\n",
    "        return res\n",
    "\n",
    "    for i in digits:\n",
    "        if i in num_letter:\n",
    "            #print(num_letter[i])\n",
    "            res.append(num_letter[i])\n",
    "    \n",
    "    print(res)\n",
    "    out = []\n",
    "    \n",
    "    if len(digits)==1:\n",
    "        for i in res[0]:\n",
    "            #print(i)\n",
    "            out.append(i)\n",
    "        return(out)\n",
    "    \n",
    "    if len(res)>1:\n",
    "        for ele in res:\n",
    "            print(ele)\n",
    "            for i in range(0,len(ele)):\n",
    "                print(ele[i])\n",
    "    \n",
    "        \n"
   ]
  },
  {
   "cell_type": "code",
   "execution_count": null,
   "id": "a77037c6",
   "metadata": {},
   "outputs": [],
   "source": []
  },
  {
   "cell_type": "code",
   "execution_count": 14,
   "id": "e86ae9be",
   "metadata": {},
   "outputs": [],
   "source": [
    "def letterCombination(digits):\n",
    "    res = []\n",
    "    digitToChar = {'2':'abc',\n",
    "                  '3':'def',\n",
    "                  '4':'ghi',\n",
    "                  '5':'jkl',\n",
    "                  '6':'mno',\n",
    "                  '7':'pqrs',\n",
    "                  '8':'tuv',\n",
    "                  '9':'wxyz'}\n",
    "    \n",
    "    def backtrack(i, curStr):\n",
    "        if len(curStr) == len(digits):\n",
    "            res.append(curStr)\n",
    "            return\n",
    "        \n",
    "        for c in digitToChar[digits[i]]:\n",
    "            backtrack(i+1,curStr+c)\n",
    "        \n",
    "    \n",
    "    if digits:\n",
    "        backtrack(0,'')\n",
    "    \n",
    "    return res\n",
    "    \n",
    "    \n",
    "    \n",
    "    \n",
    "    \n",
    "    \n",
    "    \n",
    "    \n",
    "    "
   ]
  },
  {
   "cell_type": "code",
   "execution_count": 15,
   "id": "703de847",
   "metadata": {},
   "outputs": [
    {
     "data": {
      "text/plain": [
       "['ad', 'ae', 'af', 'bd', 'be', 'bf', 'cd', 'ce', 'cf']"
      ]
     },
     "execution_count": 15,
     "metadata": {},
     "output_type": "execute_result"
    }
   ],
   "source": [
    "digits = \"23\"\n",
    "letterCombination(digits)"
   ]
  },
  {
   "cell_type": "code",
   "execution_count": 18,
   "id": "e7f59e9f",
   "metadata": {},
   "outputs": [
    {
     "data": {
      "text/plain": [
       "['a', 'b', 'c']"
      ]
     },
     "execution_count": 18,
     "metadata": {},
     "output_type": "execute_result"
    }
   ],
   "source": [
    "digits = \"2\"\n",
    "letterCombination(digits)"
   ]
  },
  {
   "cell_type": "code",
   "execution_count": 17,
   "id": "aa4b8e1e",
   "metadata": {},
   "outputs": [
    {
     "data": {
      "text/plain": [
       "[]"
      ]
     },
     "execution_count": 17,
     "metadata": {},
     "output_type": "execute_result"
    }
   ],
   "source": [
    "digits = \"\"\n",
    "letterCombination(digits)"
   ]
  },
  {
   "cell_type": "code",
   "execution_count": 1,
   "id": "9f542f86",
   "metadata": {},
   "outputs": [],
   "source": [
    "#digits = \"2458\"\n",
    "#letterCombination(digits)"
   ]
  },
  {
   "cell_type": "code",
   "execution_count": null,
   "id": "fc1f0c12",
   "metadata": {},
   "outputs": [],
   "source": []
  },
  {
   "cell_type": "code",
   "execution_count": null,
   "id": "99f00d4e",
   "metadata": {},
   "outputs": [],
   "source": []
  },
  {
   "cell_type": "markdown",
   "id": "fcdf37d3",
   "metadata": {},
   "source": [
    "# Fibonacci series"
   ]
  },
  {
   "cell_type": "code",
   "execution_count": 47,
   "id": "37428c8d",
   "metadata": {},
   "outputs": [],
   "source": [
    "def fibonacci(num):\n",
    "    print(num)\n",
    "    res = [0,1]\n",
    "    i = 0\n",
    "    j = i+1\n",
    "    count = 0\n",
    "    temp = 0 \n",
    "    while count != num-2:\n",
    "        temp = res[i] + res[j]\n",
    "        res.append(temp)\n",
    "        i+=1\n",
    "        j+=1\n",
    "        count+=1\n",
    "    print(res)\n",
    "    "
   ]
  },
  {
   "cell_type": "code",
   "execution_count": 55,
   "id": "9294374b",
   "metadata": {},
   "outputs": [
    {
     "name": "stdout",
     "output_type": "stream",
     "text": [
      "10\n"
     ]
    },
    {
     "data": {
      "text/plain": [
       "[0, 1, 1, 2, 3, 5, 8, 13, 21, 34]"
      ]
     },
     "execution_count": 55,
     "metadata": {},
     "output_type": "execute_result"
    }
   ],
   "source": [
    "num = 10\n",
    "fibonacci(num)"
   ]
  },
  {
   "cell_type": "markdown",
   "id": "d74fc101",
   "metadata": {},
   "source": [
    "# Optimized Code"
   ]
  },
  {
   "cell_type": "code",
   "execution_count": 54,
   "id": "d618cd91",
   "metadata": {},
   "outputs": [],
   "source": [
    "def fibonacci(num):\n",
    "    print(num)\n",
    "    \n",
    "    if num<0:\n",
    "        return ('INVALID INPUT')\n",
    "    elif num ==0:\n",
    "        return ([])\n",
    "    \n",
    "    elif num ==1:\n",
    "        return ([0])\n",
    "    \n",
    "    elif num ==2:\n",
    "        return ([0,1])\n",
    "    \n",
    "    else:\n",
    "        res = [0,1]\n",
    "        count = 0\n",
    "        \n",
    "        for i in range(2,num):\n",
    "            res.append(res[-1]+res[-2])\n",
    "    \n",
    "    \n",
    "    return res\n",
    "    \n",
    "    "
   ]
  },
  {
   "cell_type": "code",
   "execution_count": null,
   "id": "ab208ce8",
   "metadata": {},
   "outputs": [],
   "source": []
  },
  {
   "cell_type": "code",
   "execution_count": null,
   "id": "5869fe07",
   "metadata": {},
   "outputs": [],
   "source": []
  },
  {
   "cell_type": "markdown",
   "id": "52d0c0a6",
   "metadata": {},
   "source": [
    "# 520. Detect Capital\n"
   ]
  },
  {
   "cell_type": "code",
   "execution_count": 20,
   "id": "ce1b8948",
   "metadata": {},
   "outputs": [],
   "source": [
    "def detectCapitalUse(word):\n",
    "    \n",
    "    OrderCap = False\n",
    "    #CHECK IF ALL THE CHARACTER ARE CAPITAL\n",
    "    for char in word:\n",
    "        if ord(char)<97:\n",
    "            OrderCap = True\n",
    "        else:\n",
    "            OrderCap = False # IF CHAR FOUND LOWER CASE BREAK\n",
    "            break\n",
    "    #IF ALL CHARACTER ARE CAPITAL THEN RETURN TRUE\n",
    "    if OrderCap:\n",
    "        return True\n",
    "    \n",
    "    #HERE IF NOT ALL CAPITAL CHECK OTHER CHARACTERS IF ANY CAPITAL IN BETWEEN RETURN FALSE ELSE TRUE\n",
    "    for i in range(1,len(word)):\n",
    "        if (ord(word[i])<97):\n",
    "            return False\n",
    "        \n",
    "    return True\n",
    "\n",
    "    "
   ]
  },
  {
   "cell_type": "code",
   "execution_count": 21,
   "id": "b205186d",
   "metadata": {},
   "outputs": [
    {
     "data": {
      "text/plain": [
       "True"
      ]
     },
     "execution_count": 21,
     "metadata": {},
     "output_type": "execute_result"
    }
   ],
   "source": [
    "word = \"USA\"\n",
    "detectCapitalUse(word)"
   ]
  },
  {
   "cell_type": "code",
   "execution_count": 22,
   "id": "947ab60a",
   "metadata": {},
   "outputs": [
    {
     "name": "stdout",
     "output_type": "stream",
     "text": [
      "G\n"
     ]
    },
    {
     "data": {
      "text/plain": [
       "False"
      ]
     },
     "execution_count": 22,
     "metadata": {},
     "output_type": "execute_result"
    }
   ],
   "source": [
    "word = \"FlaG\"\n",
    "detectCapitalUse(word)"
   ]
  },
  {
   "cell_type": "code",
   "execution_count": null,
   "id": "5696229e",
   "metadata": {},
   "outputs": [],
   "source": []
  },
  {
   "cell_type": "code",
   "execution_count": 13,
   "id": "019b0e37",
   "metadata": {},
   "outputs": [
    {
     "name": "stdout",
     "output_type": "stream",
     "text": [
      "65 97\n"
     ]
    }
   ],
   "source": [
    "print(ord(\"A\"),ord(\"a\"))"
   ]
  },
  {
   "cell_type": "code",
   "execution_count": null,
   "id": "435038e9",
   "metadata": {},
   "outputs": [],
   "source": []
  },
  {
   "cell_type": "markdown",
   "id": "26b47c65",
   "metadata": {},
   "source": [
    "# 796. Rotate String\n"
   ]
  },
  {
   "cell_type": "code",
   "execution_count": 43,
   "id": "be3626da",
   "metadata": {},
   "outputs": [],
   "source": [
    "def rotateString(s,goal):\n",
    "    #print(s,goal)\n",
    "    n = len(s)\n",
    "    while n!=0:\n",
    "        #print(s)\n",
    "        if s == goal:\n",
    "            return True\n",
    "        else:\n",
    "            s = s[1:]+s[0]\n",
    "        n-=1\n",
    "    return False\n",
    "    "
   ]
  },
  {
   "cell_type": "code",
   "execution_count": 44,
   "id": "f18e1fe8",
   "metadata": {},
   "outputs": [
    {
     "data": {
      "text/plain": [
       "True"
      ]
     },
     "execution_count": 44,
     "metadata": {},
     "output_type": "execute_result"
    }
   ],
   "source": [
    "s = \"abcde\"\n",
    "goal = \"cdeab\"\n",
    "rotateString(s,goal)"
   ]
  },
  {
   "cell_type": "code",
   "execution_count": 45,
   "id": "04e92ad2",
   "metadata": {},
   "outputs": [
    {
     "data": {
      "text/plain": [
       "False"
      ]
     },
     "execution_count": 45,
     "metadata": {},
     "output_type": "execute_result"
    }
   ],
   "source": [
    "s = \"abcde\"\n",
    "goal = \"abced\"\n",
    "rotateString(s,goal)"
   ]
  },
  {
   "cell_type": "code",
   "execution_count": null,
   "id": "9b82aa0b",
   "metadata": {},
   "outputs": [],
   "source": []
  },
  {
   "cell_type": "code",
   "execution_count": null,
   "id": "94a97593",
   "metadata": {},
   "outputs": [],
   "source": []
  },
  {
   "cell_type": "markdown",
   "id": "fdbadb31",
   "metadata": {},
   "source": [
    "# 1221. Split a String in Balanced Strings"
   ]
  },
  {
   "cell_type": "code",
   "execution_count": null,
   "id": "1b65dfad",
   "metadata": {},
   "outputs": [],
   "source": []
  },
  {
   "cell_type": "code",
   "execution_count": 68,
   "id": "260b9ebd",
   "metadata": {},
   "outputs": [],
   "source": [
    "def balancedStringSplit(s):\n",
    "    #print(s)\n",
    "    countR,countL = 0,0\n",
    "    res = []\n",
    "    \n",
    "    for char in s:\n",
    "        if char == 'R':\n",
    "            countR+=1\n",
    "        elif char=='L':\n",
    "            countL+=1\n",
    "        \n",
    "        if countL == countR:\n",
    "            res.append('R'*countR+ 'L'*countL)\n",
    "            countL,countR = 0,0\n",
    "            \n",
    "    #print(countL,countR)\n",
    "    #print(res)\n",
    "    return(len(res))\n",
    "    \n",
    "    \n",
    "    \n",
    "    \n",
    "    "
   ]
  },
  {
   "cell_type": "code",
   "execution_count": 69,
   "id": "6f24cb35",
   "metadata": {},
   "outputs": [
    {
     "data": {
      "text/plain": [
       "4"
      ]
     },
     "execution_count": 69,
     "metadata": {},
     "output_type": "execute_result"
    }
   ],
   "source": [
    "s = \"RLRRLLRLRL\"\n",
    "balancedStringSplit(s)"
   ]
  },
  {
   "cell_type": "code",
   "execution_count": 70,
   "id": "27d73be5",
   "metadata": {},
   "outputs": [
    {
     "data": {
      "text/plain": [
       "2"
      ]
     },
     "execution_count": 70,
     "metadata": {},
     "output_type": "execute_result"
    }
   ],
   "source": [
    "s = \"RLRRRLLRLL\"\n",
    "balancedStringSplit(s)"
   ]
  },
  {
   "cell_type": "code",
   "execution_count": 71,
   "id": "ab54e50b",
   "metadata": {},
   "outputs": [
    {
     "data": {
      "text/plain": [
       "1"
      ]
     },
     "execution_count": 71,
     "metadata": {},
     "output_type": "execute_result"
    }
   ],
   "source": [
    "s = \"LLLLRRRR\"\n",
    "balancedStringSplit(s)"
   ]
  },
  {
   "cell_type": "code",
   "execution_count": null,
   "id": "63130d97",
   "metadata": {},
   "outputs": [],
   "source": []
  },
  {
   "cell_type": "code",
   "execution_count": null,
   "id": "34b4ef47",
   "metadata": {},
   "outputs": [],
   "source": []
  },
  {
   "cell_type": "markdown",
   "id": "bd6b1661",
   "metadata": {},
   "source": [
    "# 709. To Lower Case\n"
   ]
  },
  {
   "cell_type": "code",
   "execution_count": 135,
   "id": "5016518e",
   "metadata": {},
   "outputs": [],
   "source": [
    "def toLowerCase(s):\n",
    "    #print(s)\n",
    "    #print(s.lower())\n",
    "    for char in s:\n",
    "        if 65<ord(char)<90:\n",
    "            #print(char,\"CHANGE TO\",chr(ord(char)+32))\n",
    "            s = s.replace(char,chr(ord(char)+32))\n",
    "            \n",
    "    \n",
    "    return(s)\n",
    "    \n",
    "    \n",
    "    \n",
    "    "
   ]
  },
  {
   "cell_type": "code",
   "execution_count": 136,
   "id": "08a751e4",
   "metadata": {},
   "outputs": [
    {
     "data": {
      "text/plain": [
       "'hello'"
      ]
     },
     "execution_count": 136,
     "metadata": {},
     "output_type": "execute_result"
    }
   ],
   "source": [
    "s = \"Hello\"\n",
    "toLowerCase(s)"
   ]
  },
  {
   "cell_type": "code",
   "execution_count": 137,
   "id": "aabd9fbc",
   "metadata": {},
   "outputs": [
    {
     "data": {
      "text/plain": [
       "'here'"
      ]
     },
     "execution_count": 137,
     "metadata": {},
     "output_type": "execute_result"
    }
   ],
   "source": [
    "s = \"here\"\n",
    "toLowerCase(s)"
   ]
  },
  {
   "cell_type": "code",
   "execution_count": 138,
   "id": "77567f8c",
   "metadata": {},
   "outputs": [
    {
     "data": {
      "text/plain": [
       "'lovely'"
      ]
     },
     "execution_count": 138,
     "metadata": {},
     "output_type": "execute_result"
    }
   ],
   "source": [
    "s = \"LOVELY\"\n",
    "toLowerCase(s)"
   ]
  },
  {
   "cell_type": "code",
   "execution_count": 139,
   "id": "9625161d",
   "metadata": {},
   "outputs": [
    {
     "data": {
      "text/plain": [
       "'al&phabet'"
      ]
     },
     "execution_count": 139,
     "metadata": {},
     "output_type": "execute_result"
    }
   ],
   "source": [
    "s =\"al&phaBET\"  #EXPECTED \"al&phabet\"\n",
    "toLowerCase(s)"
   ]
  },
  {
   "cell_type": "code",
   "execution_count": null,
   "id": "047fabb3",
   "metadata": {},
   "outputs": [],
   "source": []
  },
  {
   "cell_type": "markdown",
   "id": "39b37bcc",
   "metadata": {},
   "source": [
    "# 1844. Replace All Digits with Characters"
   ]
  },
  {
   "cell_type": "code",
   "execution_count": 105,
   "id": "e313aa7c",
   "metadata": {},
   "outputs": [],
   "source": [
    "def replaceDigits(s):\n",
    "    res = ''\n",
    "    if len(s)%2==0:\n",
    "        for i in range(1,len(s),2):\n",
    "            res = res + s[i-1] + chr(ord(s[i-1])+int(s[i]))\n",
    "    if len(s)%2!=0:\n",
    "        for i in range(0,len(s)):\n",
    "            if i%2==0:\n",
    "                res = res + s[i]\n",
    "            if i%2!=0:\n",
    "                res = res  + chr(ord(s[i-1])+int(s[i]))\n",
    "    return res\n",
    "        \n",
    "        \n",
    "    "
   ]
  },
  {
   "cell_type": "code",
   "execution_count": 109,
   "id": "197364aa",
   "metadata": {},
   "outputs": [
    {
     "data": {
      "text/plain": [
       "'abcdef'"
      ]
     },
     "execution_count": 109,
     "metadata": {},
     "output_type": "execute_result"
    }
   ],
   "source": [
    "# \"abcdef\"\n",
    "s = \"a1c1e1\"\n",
    "replaceDigits(s)"
   ]
  },
  {
   "cell_type": "code",
   "execution_count": 110,
   "id": "08059d25",
   "metadata": {},
   "outputs": [
    {
     "data": {
      "text/plain": [
       "'abbdcfdhe'"
      ]
     },
     "execution_count": 110,
     "metadata": {},
     "output_type": "execute_result"
    }
   ],
   "source": [
    "# \"abbdcfdhe\"\n",
    "s = \"a1b2c3d4e\"\n",
    "replaceDigits(s)"
   ]
  },
  {
   "cell_type": "code",
   "execution_count": 111,
   "id": "f923d42c",
   "metadata": {},
   "outputs": [],
   "source": [
    "# OPTIMIZE CODE\n",
    "def replaceDigits(s):\n",
    "    res = ''\n",
    "    for i in range(0,len(s)):\n",
    "        if i%2==0:\n",
    "            res += s[i]\n",
    "        if i%2!=0:\n",
    "            res += chr(ord(s[i-1])+int(s[i]))\n",
    "    return res\n",
    "    "
   ]
  },
  {
   "cell_type": "code",
   "execution_count": null,
   "id": "8759a78c",
   "metadata": {},
   "outputs": [],
   "source": []
  },
  {
   "cell_type": "code",
   "execution_count": null,
   "id": "cfa096bf",
   "metadata": {},
   "outputs": [],
   "source": []
  },
  {
   "cell_type": "markdown",
   "id": "6371937f",
   "metadata": {},
   "source": [
    "# 2678. Number of Senior Citizens"
   ]
  },
  {
   "cell_type": "code",
   "execution_count": 20,
   "id": "5a304141",
   "metadata": {},
   "outputs": [],
   "source": [
    "def countSeniors(details):\n",
    "    #print(details)\n",
    "    count = 0\n",
    "    for i in details:\n",
    "        #print(i[-4:-2])\n",
    "        if int(i[-4:-2]) > 60:\n",
    "            count+=1\n",
    "    return count\n",
    "    \n",
    "    \n",
    "    \n",
    "    \n",
    "    \n",
    "    \n",
    "    "
   ]
  },
  {
   "cell_type": "code",
   "execution_count": 26,
   "id": "673f5fb8",
   "metadata": {},
   "outputs": [
    {
     "data": {
      "text/plain": [
       "0"
      ]
     },
     "execution_count": 26,
     "metadata": {},
     "output_type": "execute_result"
    }
   ],
   "source": [
    "details = [\"1313579440F2036\",\"2921522980M5644\"]\n",
    "countSeniors(details)"
   ]
  },
  {
   "cell_type": "code",
   "execution_count": 25,
   "id": "d5632d23",
   "metadata": {},
   "outputs": [
    {
     "data": {
      "text/plain": [
       "2"
      ]
     },
     "execution_count": 25,
     "metadata": {},
     "output_type": "execute_result"
    }
   ],
   "source": [
    "details = [\"7868190130M7522\",\"5303914400F9211\",\"9273338290F4010\"]\n",
    "countSeniors(details)"
   ]
  },
  {
   "cell_type": "code",
   "execution_count": 24,
   "id": "84790df7",
   "metadata": {},
   "outputs": [],
   "source": [
    "def countSeniors(details):\n",
    "    #print(details)\n",
    "    #count = 0\n",
    "    return sum(1 for i in details if int(i[-4:-2]) > 60)\n",
    "    "
   ]
  },
  {
   "cell_type": "code",
   "execution_count": null,
   "id": "69dad573",
   "metadata": {},
   "outputs": [],
   "source": []
  },
  {
   "cell_type": "code",
   "execution_count": null,
   "id": "4c6f500f",
   "metadata": {},
   "outputs": [],
   "source": []
  },
  {
   "cell_type": "markdown",
   "id": "b66173f8",
   "metadata": {},
   "source": [
    "# 1374. Generate a String With Characters That Have Odd Counts\n"
   ]
  },
  {
   "cell_type": "code",
   "execution_count": 17,
   "id": "058c4c5e",
   "metadata": {},
   "outputs": [],
   "source": [
    "def generateTheString(n):\n",
    "    print(n)\n",
    "    res = ''\n",
    "    if n%2!=0:\n",
    "        res = res+ 'a'*n\n",
    "    else:\n",
    "        res = res+ 'a'*(n-1) + 'b'\n",
    "    \n",
    "    return res\n",
    "    \n",
    "    \n",
    "    "
   ]
  },
  {
   "cell_type": "code",
   "execution_count": 18,
   "id": "35c110fa",
   "metadata": {},
   "outputs": [
    {
     "name": "stdout",
     "output_type": "stream",
     "text": [
      "4\n"
     ]
    },
    {
     "data": {
      "text/plain": [
       "'aaab'"
      ]
     },
     "execution_count": 18,
     "metadata": {},
     "output_type": "execute_result"
    }
   ],
   "source": [
    "n = 4\n",
    "generateTheString(n)"
   ]
  },
  {
   "cell_type": "code",
   "execution_count": 19,
   "id": "bfd6f9a2",
   "metadata": {},
   "outputs": [
    {
     "name": "stdout",
     "output_type": "stream",
     "text": [
      "2\n"
     ]
    },
    {
     "data": {
      "text/plain": [
       "'ab'"
      ]
     },
     "execution_count": 19,
     "metadata": {},
     "output_type": "execute_result"
    }
   ],
   "source": [
    "n=2\n",
    "generateTheString(n)"
   ]
  },
  {
   "cell_type": "code",
   "execution_count": 20,
   "id": "f4661d88",
   "metadata": {},
   "outputs": [
    {
     "name": "stdout",
     "output_type": "stream",
     "text": [
      "7\n"
     ]
    },
    {
     "data": {
      "text/plain": [
       "'aaaaaaa'"
      ]
     },
     "execution_count": 20,
     "metadata": {},
     "output_type": "execute_result"
    }
   ],
   "source": [
    "n=7\n",
    "generateTheString(n)"
   ]
  },
  {
   "cell_type": "code",
   "execution_count": null,
   "id": "a9dcd604",
   "metadata": {},
   "outputs": [],
   "source": []
  },
  {
   "cell_type": "code",
   "execution_count": null,
   "id": "82ebaa05",
   "metadata": {},
   "outputs": [],
   "source": []
  },
  {
   "cell_type": "markdown",
   "id": "345c0d90",
   "metadata": {},
   "source": [
    "# 412. Fizz Buzz\n"
   ]
  },
  {
   "cell_type": "code",
   "execution_count": 54,
   "id": "dbd02ac2",
   "metadata": {},
   "outputs": [],
   "source": [
    "def fizzBuzz(n):\n",
    "    print(n)\n",
    "    res = []\n",
    "    for i in range(0,n):\n",
    "        #print(i)\n",
    "        if (i+1)%3==0 and (i+1)%5==0:\n",
    "            res.append('FizzBuzz')\n",
    "        elif (i+1) % 3 == 0:\n",
    "            res.append('Fizz')\n",
    "        elif (i+1)% 5 == 0:\n",
    "            res.append('Buzz')\n",
    "        else:\n",
    "            res.append(str(i+1))\n",
    "    \n",
    "    return (res)\n",
    "    \n",
    "    \n",
    "    \n",
    "    "
   ]
  },
  {
   "cell_type": "code",
   "execution_count": 61,
   "id": "ac0a07fc",
   "metadata": {},
   "outputs": [
    {
     "data": {
      "text/plain": [
       "['1', '2', 'Fizz']"
      ]
     },
     "execution_count": 61,
     "metadata": {},
     "output_type": "execute_result"
    }
   ],
   "source": [
    "n = 3\n",
    "fizzBuzz(n)"
   ]
  },
  {
   "cell_type": "code",
   "execution_count": 62,
   "id": "a6ccb31e",
   "metadata": {},
   "outputs": [
    {
     "data": {
      "text/plain": [
       "['1', '2', 'Fizz', '4', 'Buzz']"
      ]
     },
     "execution_count": 62,
     "metadata": {},
     "output_type": "execute_result"
    }
   ],
   "source": [
    "n = 5\n",
    "fizzBuzz(n)"
   ]
  },
  {
   "cell_type": "code",
   "execution_count": 63,
   "id": "56ae6868",
   "metadata": {},
   "outputs": [
    {
     "data": {
      "text/plain": [
       "['1',\n",
       " '2',\n",
       " 'Fizz',\n",
       " '4',\n",
       " 'Buzz',\n",
       " 'Fizz',\n",
       " '7',\n",
       " '8',\n",
       " 'Fizz',\n",
       " 'Buzz',\n",
       " '11',\n",
       " 'Fizz',\n",
       " '13',\n",
       " '14',\n",
       " 'FizzBuzz']"
      ]
     },
     "execution_count": 63,
     "metadata": {},
     "output_type": "execute_result"
    }
   ],
   "source": [
    "n = 15\n",
    "fizzBuzz(n)"
   ]
  },
  {
   "cell_type": "code",
   "execution_count": 60,
   "id": "d5a794c2",
   "metadata": {},
   "outputs": [],
   "source": [
    "#OPTIMIZE CODE\n",
    "def fizzBuzz(n):\n",
    "    return (['FizzBuzz' if (i+1)%3==0 and (i+1)%5==0  else 'Fizz' if (i+1) % 3 == 0 else 'Buzz' if (i+1)% 5 == 0 else str(i+1) for i in range(0,n)])"
   ]
  },
  {
   "cell_type": "code",
   "execution_count": null,
   "id": "3f4c9a26",
   "metadata": {},
   "outputs": [],
   "source": []
  },
  {
   "cell_type": "code",
   "execution_count": null,
   "id": "d7aa675a",
   "metadata": {},
   "outputs": [],
   "source": []
  },
  {
   "cell_type": "code",
   "execution_count": null,
   "id": "82329f35",
   "metadata": {},
   "outputs": [],
   "source": []
  }
 ],
 "metadata": {
  "kernelspec": {
   "display_name": "Python 3 (ipykernel)",
   "language": "python",
   "name": "python3"
  },
  "language_info": {
   "codemirror_mode": {
    "name": "ipython",
    "version": 3
   },
   "file_extension": ".py",
   "mimetype": "text/x-python",
   "name": "python",
   "nbconvert_exporter": "python",
   "pygments_lexer": "ipython3",
   "version": "3.11.3"
  }
 },
 "nbformat": 4,
 "nbformat_minor": 5
}
