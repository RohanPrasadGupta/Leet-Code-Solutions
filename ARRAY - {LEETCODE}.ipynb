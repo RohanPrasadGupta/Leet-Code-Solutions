{
 "cells": [
  {
   "cell_type": "code",
   "execution_count": null,
   "id": "25fb89a6",
   "metadata": {},
   "outputs": [],
   "source": []
  },
  {
   "cell_type": "markdown",
   "id": "9e788fc1",
   "metadata": {},
   "source": [
    "# 2859. Sum of Values at Indices With K Set Bits"
   ]
  },
  {
   "cell_type": "code",
   "execution_count": null,
   "id": "930f6db1",
   "metadata": {},
   "outputs": [],
   "source": []
  },
  {
   "cell_type": "code",
   "execution_count": 18,
   "id": "42328c1d",
   "metadata": {},
   "outputs": [],
   "source": [
    "def sumIndicesWithKSetBits(nums,k):\n",
    "    dicArr = dict()\n",
    "    for i in range (0,len(nums)):\n",
    "        num = bin(i).replace('0b','')\n",
    "        count = 0\n",
    "        for j in num:\n",
    "            if j == '1':\n",
    "                count +=1\n",
    "        dicArr[i] = count\n",
    "    res = 0\n",
    "    for num,val in dicArr.items():\n",
    "        #print(num,val)\n",
    "        if val == k:\n",
    "            res = res + nums[num]\n",
    "    return res"
   ]
  },
  {
   "cell_type": "code",
   "execution_count": 19,
   "id": "661e75bb",
   "metadata": {},
   "outputs": [
    {
     "data": {
      "text/plain": [
       "13"
      ]
     },
     "execution_count": 19,
     "metadata": {},
     "output_type": "execute_result"
    }
   ],
   "source": [
    "nums = [5,10,1,5,2]\n",
    "k = 1\n",
    "sumIndicesWithKSetBits(nums,k)"
   ]
  },
  {
   "cell_type": "code",
   "execution_count": 20,
   "id": "763380a6",
   "metadata": {},
   "outputs": [
    {
     "data": {
      "text/plain": [
       "1"
      ]
     },
     "execution_count": 20,
     "metadata": {},
     "output_type": "execute_result"
    }
   ],
   "source": [
    "nums = [4,3,2,1]\n",
    "k = 2\n",
    "sumIndicesWithKSetBits(nums,k)"
   ]
  },
  {
   "cell_type": "code",
   "execution_count": null,
   "id": "5e1e9b3c",
   "metadata": {},
   "outputs": [],
   "source": []
  },
  {
   "cell_type": "code",
   "execution_count": null,
   "id": "71862264",
   "metadata": {},
   "outputs": [],
   "source": []
  },
  {
   "cell_type": "markdown",
   "id": "41e7980d",
   "metadata": {},
   "source": [
    "# 1773. Count Items Matching a Rule"
   ]
  },
  {
   "cell_type": "code",
   "execution_count": 36,
   "id": "bbde0002",
   "metadata": {},
   "outputs": [],
   "source": [
    "def countMatches(items,ruleKey,ruleValue):\n",
    "    count = 0\n",
    "    if ruleKey == \"type\":\n",
    "        arrValue = 0\n",
    "    elif ruleKey == \"color\":\n",
    "        arrValue = 1\n",
    "    elif ruleKey == \"name\":\n",
    "        arrValue = 2\n",
    "\n",
    "    for subArr in items:\n",
    "        if ruleValue == subArr[arrValue]:\n",
    "            count += 1\n",
    "        \n",
    "    return count"
   ]
  },
  {
   "cell_type": "code",
   "execution_count": 37,
   "id": "93a5de13",
   "metadata": {},
   "outputs": [
    {
     "data": {
      "text/plain": [
       "1"
      ]
     },
     "execution_count": 37,
     "metadata": {},
     "output_type": "execute_result"
    }
   ],
   "source": [
    "items = [[\"phone\",\"blue\",\"pixel\"],[\"computer\",\"silver\",\"lenovo\"],[\"phone\",\"gold\",\"iphone\"]]\n",
    "ruleKey = \"color\"\n",
    "ruleValue = \"silver\"\n",
    "countMatches(items,ruleKey,ruleValue)"
   ]
  },
  {
   "cell_type": "code",
   "execution_count": 38,
   "id": "efccf62a",
   "metadata": {},
   "outputs": [
    {
     "data": {
      "text/plain": [
       "2"
      ]
     },
     "execution_count": 38,
     "metadata": {},
     "output_type": "execute_result"
    }
   ],
   "source": [
    "items = [[\"phone\",\"blue\",\"pixel\"],[\"computer\",\"silver\",\"phone\"],[\"phone\",\"gold\",\"iphone\"]]\n",
    "ruleKey = \"type\"\n",
    "ruleValue = \"phone\"\n",
    "countMatches(items,ruleKey,ruleValue)"
   ]
  },
  {
   "cell_type": "code",
   "execution_count": null,
   "id": "74a30bd3",
   "metadata": {},
   "outputs": [],
   "source": []
  },
  {
   "cell_type": "code",
   "execution_count": null,
   "id": "f0cbbf6f",
   "metadata": {},
   "outputs": [],
   "source": []
  },
  {
   "cell_type": "code",
   "execution_count": null,
   "id": "ee634d66",
   "metadata": {},
   "outputs": [],
   "source": []
  },
  {
   "cell_type": "code",
   "execution_count": null,
   "id": "872c2c74",
   "metadata": {},
   "outputs": [],
   "source": []
  },
  {
   "cell_type": "markdown",
   "id": "a23d981c",
   "metadata": {},
   "source": [
    "# 832. Flipping an Image\n"
   ]
  },
  {
   "cell_type": "code",
   "execution_count": 27,
   "id": "a583049f",
   "metadata": {},
   "outputs": [],
   "source": [
    "def flipAndInvertImage(image):\n",
    "    res = [image[i][::-1] for i in range (0,len(image))]\n",
    "    #for i in range (0,len(image)):\n",
    "     #   res.append(image[i][::-1])\n",
    "    \n",
    "    for subArr in res:\n",
    "        #print(subArr)\n",
    "        for i in range (0,len(subArr)):\n",
    "            #print(subArr[i])\n",
    "            if subArr[i] == 1:\n",
    "                subArr[i] = 0\n",
    "            elif subArr[i] == 0:\n",
    "                subArr[i] = 1\n",
    "    return res\n",
    "\n",
    "\n"
   ]
  },
  {
   "cell_type": "code",
   "execution_count": 28,
   "id": "7a6eb64d",
   "metadata": {},
   "outputs": [
    {
     "data": {
      "text/plain": [
       "[[1, 0, 0], [0, 1, 0], [1, 1, 1]]"
      ]
     },
     "execution_count": 28,
     "metadata": {},
     "output_type": "execute_result"
    }
   ],
   "source": [
    "image = [[1,1,0],[1,0,1],[0,0,0]]\n",
    "flipAndInvertImage(image)"
   ]
  },
  {
   "cell_type": "code",
   "execution_count": 29,
   "id": "cc225aef",
   "metadata": {},
   "outputs": [
    {
     "data": {
      "text/plain": [
       "[[1, 1, 0, 0], [0, 1, 1, 0], [0, 0, 0, 1], [1, 0, 1, 0]]"
      ]
     },
     "execution_count": 29,
     "metadata": {},
     "output_type": "execute_result"
    }
   ],
   "source": [
    "image = [[1,1,0,0],[1,0,0,1],[0,1,1,1],[1,0,1,0]]\n",
    "flipAndInvertImage(image)"
   ]
  },
  {
   "cell_type": "code",
   "execution_count": null,
   "id": "5a6ce1fa",
   "metadata": {},
   "outputs": [],
   "source": []
  },
  {
   "cell_type": "code",
   "execution_count": null,
   "id": "8434c267",
   "metadata": {},
   "outputs": [],
   "source": []
  },
  {
   "cell_type": "markdown",
   "id": "43116bcc",
   "metadata": {},
   "source": [
    "# 1534. Count Good Triplets"
   ]
  },
  {
   "cell_type": "code",
   "execution_count": 38,
   "id": "b19abee5",
   "metadata": {},
   "outputs": [],
   "source": [
    "def countGoodTriplets(arr,a,b,c):\n",
    "    res =[]\n",
    "    for i in range(0,len(arr)-2):\n",
    "        for j in range(i+1,len(arr)-1):\n",
    "            for k in range(j+1,len(arr)):\n",
    "                #print(arr[i],arr[j],arr[k])\n",
    "                if abs(arr[i] - arr[j]) <= a and abs(arr[j] - arr[k]) <= b and abs(arr[i] - arr[k]) <= c:\n",
    "                    res.append([arr[i],arr[j],arr[k]])\n",
    "\n",
    "    print(res)\n",
    "    return len(res)\n",
    "\n"
   ]
  },
  {
   "cell_type": "code",
   "execution_count": 39,
   "id": "40f4fe2a",
   "metadata": {},
   "outputs": [
    {
     "name": "stdout",
     "output_type": "stream",
     "text": [
      "[[3, 0, 1], [3, 0, 1], [3, 1, 1], [0, 1, 1]]\n"
     ]
    },
    {
     "data": {
      "text/plain": [
       "4"
      ]
     },
     "execution_count": 39,
     "metadata": {},
     "output_type": "execute_result"
    }
   ],
   "source": [
    "arr = [3,0,1,1,9,7]\n",
    "a = 7\n",
    "b = 2\n",
    "c = 3\n",
    "countGoodTriplets(arr,a,b,c)"
   ]
  },
  {
   "cell_type": "code",
   "execution_count": 40,
   "id": "c59f5942",
   "metadata": {},
   "outputs": [
    {
     "name": "stdout",
     "output_type": "stream",
     "text": [
      "[]\n"
     ]
    },
    {
     "data": {
      "text/plain": [
       "0"
      ]
     },
     "execution_count": 40,
     "metadata": {},
     "output_type": "execute_result"
    }
   ],
   "source": [
    "arr = [1,1,2,2,3]\n",
    "a = 0\n",
    "b = 0\n",
    "c = 1\n",
    "countGoodTriplets(arr,a,b,c)"
   ]
  },
  {
   "cell_type": "code",
   "execution_count": null,
   "id": "0d13fa9c",
   "metadata": {},
   "outputs": [],
   "source": []
  },
  {
   "cell_type": "code",
   "execution_count": null,
   "id": "1ae29b3e",
   "metadata": {},
   "outputs": [],
   "source": []
  },
  {
   "cell_type": "markdown",
   "id": "640ddfbf",
   "metadata": {},
   "source": [
    "# 18. 4sum"
   ]
  },
  {
   "cell_type": "code",
   "execution_count": null,
   "id": "e395ef32",
   "metadata": {},
   "outputs": [],
   "source": []
  },
  {
   "cell_type": "code",
   "execution_count": 53,
   "id": "a14b8f7a",
   "metadata": {},
   "outputs": [],
   "source": [
    "def fourSum(nums,target):\n",
    "    #print(nums,target)\n",
    "    res = []\n",
    "    nums.sort()\n",
    "    for i in range(0,len(nums)-3):\n",
    "        for j in range(i+1,len(nums)-2):\n",
    "            for k in range(j+1,len(nums)-1):\n",
    "                for l in range(k+1,len(nums)):\n",
    "                    if sum([nums[i],nums[j],nums[k],nums[l]]) == target:\n",
    "                        subArr = [nums[i],nums[j],nums[k],nums[l]]\n",
    "                        #subArr.sort()\n",
    "                        print(subArr,\"SUM :\",sum(subArr))\n",
    "                        if subArr not in res:\n",
    "                            res.append(subArr)\n",
    "    \n",
    "    return(res)\n",
    "    \n",
    "    \n",
    "    "
   ]
  },
  {
   "cell_type": "markdown",
   "id": "4367bed0",
   "metadata": {},
   "source": [
    "- optimal Solution"
   ]
  },
  {
   "cell_type": "code",
   "execution_count": 77,
   "id": "b9978a5b",
   "metadata": {},
   "outputs": [],
   "source": [
    "def fourSum(nums,target):\n",
    "    #print(nums,target)\n",
    "    nums.sort()\n",
    "    res = set()\n",
    "    for i in range(0,len(nums)-3):\n",
    "        for j in range(i+1,len(nums)-2):\n",
    "            left = j+1\n",
    "            right = len(nums)-1\n",
    "            while left < right:\n",
    "                curSum = nums[i]+nums[j]+nums[left]+nums[right]\n",
    "            \n",
    "                if curSum == target:\n",
    "                    res.add((nums[i],nums[j],nums[left],nums[right]))\n",
    "                    left+=1\n",
    "                    right-=1\n",
    "                elif curSum<target:\n",
    "                    left+=1\n",
    "                else:\n",
    "                    right-=1\n",
    "    \n",
    "    return res\n",
    "                \n",
    "\n",
    "\n"
   ]
  },
  {
   "cell_type": "code",
   "execution_count": null,
   "id": "baea8f4b",
   "metadata": {},
   "outputs": [],
   "source": []
  },
  {
   "cell_type": "code",
   "execution_count": 78,
   "id": "8e6499bc",
   "metadata": {},
   "outputs": [
    {
     "data": {
      "text/plain": [
       "{(-2, -1, 1, 2), (-2, 0, 0, 2), (-1, 0, 0, 1)}"
      ]
     },
     "execution_count": 78,
     "metadata": {},
     "output_type": "execute_result"
    }
   ],
   "source": [
    "nums = [1,0,-1,0,-2,2]\n",
    "target = 0\n",
    "fourSum(nums,target)"
   ]
  },
  {
   "cell_type": "code",
   "execution_count": 79,
   "id": "e1e58f67",
   "metadata": {},
   "outputs": [
    {
     "data": {
      "text/plain": [
       "{(2, 2, 2, 2)}"
      ]
     },
     "execution_count": 79,
     "metadata": {},
     "output_type": "execute_result"
    }
   ],
   "source": [
    "nums = [2,2,2,2,2]\n",
    "target = 8\n",
    "fourSum(nums,target)"
   ]
  },
  {
   "cell_type": "code",
   "execution_count": 80,
   "id": "c9080105",
   "metadata": {},
   "outputs": [
    {
     "data": {
      "text/plain": [
       "{(-5, 0, 4, 5), (-3, -2, 4, 5)}"
      ]
     },
     "execution_count": 80,
     "metadata": {},
     "output_type": "execute_result"
    }
   ],
   "source": [
    "nums =[-5,5,4,-3,0,0,4,-2]\n",
    "target = 4 \n",
    "fourSum(nums,target)"
   ]
  },
  {
   "cell_type": "code",
   "execution_count": null,
   "id": "191b3c85",
   "metadata": {},
   "outputs": [],
   "source": []
  },
  {
   "cell_type": "code",
   "execution_count": 81,
   "id": "4847c835",
   "metadata": {},
   "outputs": [
    {
     "data": {
      "text/plain": [
       "set()"
      ]
     },
     "execution_count": 81,
     "metadata": {},
     "output_type": "execute_result"
    }
   ],
   "source": [
    "nums = [-493,-487,-480,-464,-456,-449,-445,-439,-437,-427,-415,-403,-400,-398,-372,-349,-347,-332,-330,-324,-287,-282,-273,-254,-249,-243,-220,-219,-217,-217,-214,-199,-198,-170,-153,-150,-143,-136,-113,-93,-91,-88,-87,-78,-58,-58,-55,-51,-49,-42,-38,-36,-26,0,13,28,54,61,85,90,90,111,118,136,138,167,170,172,195,198,205,209,241,263,290,302,324,328,347,359,373,390,406,417,435,439,443,446,464,465,468,484,486,492,493]\n",
    "target = -4437\n",
    "fourSum(nums,target)"
   ]
  },
  {
   "cell_type": "code",
   "execution_count": 82,
   "id": "5ecb19be",
   "metadata": {},
   "outputs": [
    {
     "data": {
      "text/plain": [
       "set()"
      ]
     },
     "execution_count": 82,
     "metadata": {},
     "output_type": "execute_result"
    }
   ],
   "source": [
    "nums = [-500,-499,-496,-467,-467,-465,-461,-460,-456,-456,-447,-426,-425,-401,-377,-367,-344,-338,-332,-329,-328,-294,-281,-262,-256,-224,-196,-192,-171,-161,-151,-138,-130,-109,-109,-107,-104,-101,-97,-96,-90,-78,-76,-70,-28,-23,-4,30,39,46,60,80,97,120,172,183,194,197,206,238,242,243,252,303,338,341,349,362,366,367,372,393,400,403,406,411,416,454,457,460,497]\n",
    "target = -1963\n",
    "fourSum(nums,target)"
   ]
  },
  {
   "cell_type": "code",
   "execution_count": 61,
   "id": "0dac0eb2",
   "metadata": {},
   "outputs": [],
   "source": []
  },
  {
   "cell_type": "code",
   "execution_count": null,
   "id": "748328bf",
   "metadata": {},
   "outputs": [],
   "source": []
  },
  {
   "cell_type": "code",
   "execution_count": null,
   "id": "3c7a61e8",
   "metadata": {},
   "outputs": [],
   "source": []
  },
  {
   "cell_type": "markdown",
   "id": "54f16a3b",
   "metadata": {},
   "source": [
    "# 1732. Find the Highest Altitude\n"
   ]
  },
  {
   "cell_type": "code",
   "execution_count": null,
   "id": "660e5430",
   "metadata": {},
   "outputs": [],
   "source": []
  },
  {
   "cell_type": "code",
   "execution_count": 54,
   "id": "0422400a",
   "metadata": {},
   "outputs": [],
   "source": [
    "def largestAltitude(gain):\n",
    "    #print (gain)\n",
    "    res = [0]\n",
    "    for i in range(0,len(gain)):\n",
    "        gainLen = gain[i] + res[-1]\n",
    "        res.append(gainLen)\n",
    "    \n",
    "    return max(res)\n",
    "    \n",
    "    \n",
    "    \n",
    "    "
   ]
  },
  {
   "cell_type": "code",
   "execution_count": 55,
   "id": "e66fd76c",
   "metadata": {},
   "outputs": [
    {
     "data": {
      "text/plain": [
       "1"
      ]
     },
     "execution_count": 55,
     "metadata": {},
     "output_type": "execute_result"
    }
   ],
   "source": [
    "gain = [-5,1,5,0,-7]\n",
    "largestAltitude(gain)"
   ]
  },
  {
   "cell_type": "code",
   "execution_count": 56,
   "id": "16bd6deb",
   "metadata": {},
   "outputs": [
    {
     "data": {
      "text/plain": [
       "0"
      ]
     },
     "execution_count": 56,
     "metadata": {},
     "output_type": "execute_result"
    }
   ],
   "source": [
    "gain = [-4,-3,-2,-1,4,3,2]\n",
    "largestAltitude(gain)"
   ]
  },
  {
   "cell_type": "code",
   "execution_count": null,
   "id": "725c7593",
   "metadata": {},
   "outputs": [],
   "source": []
  },
  {
   "cell_type": "code",
   "execution_count": null,
   "id": "d72f9185",
   "metadata": {},
   "outputs": [],
   "source": []
  },
  {
   "cell_type": "markdown",
   "id": "28da4e90",
   "metadata": {},
   "source": [
    "# 1464. Maximum Product of Two Elements in an Array"
   ]
  },
  {
   "cell_type": "code",
   "execution_count": null,
   "id": "fc0c4684",
   "metadata": {},
   "outputs": [],
   "source": []
  },
  {
   "cell_type": "code",
   "execution_count": null,
   "id": "e0ade058",
   "metadata": {},
   "outputs": [],
   "source": []
  },
  {
   "cell_type": "code",
   "execution_count": 73,
   "id": "7cb528c0",
   "metadata": {},
   "outputs": [],
   "source": [
    "def maxProduct(nums):\n",
    "    #print(nums)\n",
    "    res = []\n",
    "    for i in range(0,len(nums)-1):\n",
    "        for j in range(i+1,len(nums)):\n",
    "            #print(nums[i],nums[j])\n",
    "            res.append((nums[i]-1)*(nums[j]-1))\n",
    "    \n",
    "    #print(res)\n",
    "    return (max(res))\n",
    "    \n",
    "    "
   ]
  },
  {
   "cell_type": "markdown",
   "id": "2c87b52b",
   "metadata": {},
   "source": [
    "- Another Solution"
   ]
  },
  {
   "cell_type": "code",
   "execution_count": 85,
   "id": "971f685b",
   "metadata": {},
   "outputs": [],
   "source": [
    "def maxProduct(nums):\n",
    "    return (max([(nums[i]-1)*(nums[j]-1) for i in range(0,len(nums)-1) for j in range(i+1,len(nums))]))\n",
    "    "
   ]
  },
  {
   "cell_type": "code",
   "execution_count": 86,
   "id": "23b20d21",
   "metadata": {},
   "outputs": [
    {
     "data": {
      "text/plain": [
       "12"
      ]
     },
     "execution_count": 86,
     "metadata": {},
     "output_type": "execute_result"
    }
   ],
   "source": [
    "nums = [3,4,5,2]\n",
    "maxProduct(nums)"
   ]
  },
  {
   "cell_type": "code",
   "execution_count": 87,
   "id": "acc9727a",
   "metadata": {},
   "outputs": [
    {
     "data": {
      "text/plain": [
       "16"
      ]
     },
     "execution_count": 87,
     "metadata": {},
     "output_type": "execute_result"
    }
   ],
   "source": [
    "nums = [1,5,4,5]\n",
    "maxProduct(nums)"
   ]
  },
  {
   "cell_type": "code",
   "execution_count": 88,
   "id": "58c4a3db",
   "metadata": {},
   "outputs": [
    {
     "data": {
      "text/plain": [
       "12"
      ]
     },
     "execution_count": 88,
     "metadata": {},
     "output_type": "execute_result"
    }
   ],
   "source": [
    "nums = [3,7]\n",
    "maxProduct(nums)"
   ]
  },
  {
   "cell_type": "code",
   "execution_count": null,
   "id": "7cba3a12",
   "metadata": {},
   "outputs": [],
   "source": []
  },
  {
   "cell_type": "code",
   "execution_count": null,
   "id": "bf09fb5a",
   "metadata": {},
   "outputs": [],
   "source": []
  },
  {
   "cell_type": "markdown",
   "id": "3be27217",
   "metadata": {},
   "source": [
    "# 1287. Element Appearing More Than 25% In Sorted Array"
   ]
  },
  {
   "cell_type": "code",
   "execution_count": 114,
   "id": "e11da474",
   "metadata": {},
   "outputs": [],
   "source": [
    "from collections import Counter \n",
    "def findSpecialInteger(arr):\n",
    "    print(arr)\n",
    "    numDic = Counter(arr)\n",
    "    print(numDic)\n",
    "    res = 0\n",
    "    comp = 0\n",
    "    \n",
    "    for ele,value in numDic.items():\n",
    "        print(ele,value)\n",
    "        if value>comp:\n",
    "            res = ele\n",
    "            comp = value\n",
    "    \n",
    "    return res\n",
    "    \n",
    "    \n",
    "    \n",
    "    "
   ]
  },
  {
   "cell_type": "code",
   "execution_count": 115,
   "id": "cfcb70f7",
   "metadata": {},
   "outputs": [
    {
     "name": "stdout",
     "output_type": "stream",
     "text": [
      "[1, 2, 2, 6, 6, 6, 6, 7, 10]\n",
      "Counter({6: 4, 2: 2, 1: 1, 7: 1, 10: 1})\n",
      "1 1\n",
      "2 2\n",
      "6 4\n",
      "7 1\n",
      "10 1\n"
     ]
    },
    {
     "data": {
      "text/plain": [
       "6"
      ]
     },
     "execution_count": 115,
     "metadata": {},
     "output_type": "execute_result"
    }
   ],
   "source": [
    "arr = [1,2,2,6,6,6,6,7,10]\n",
    "findSpecialInteger(arr)"
   ]
  },
  {
   "cell_type": "code",
   "execution_count": 116,
   "id": "2fe85e24",
   "metadata": {},
   "outputs": [
    {
     "name": "stdout",
     "output_type": "stream",
     "text": [
      "[1, 1]\n",
      "Counter({1: 2})\n",
      "1 2\n"
     ]
    },
    {
     "data": {
      "text/plain": [
       "1"
      ]
     },
     "execution_count": 116,
     "metadata": {},
     "output_type": "execute_result"
    }
   ],
   "source": [
    "arr = [1,1]\n",
    "findSpecialInteger(arr)"
   ]
  },
  {
   "cell_type": "code",
   "execution_count": 117,
   "id": "a28c97f9",
   "metadata": {},
   "outputs": [
    {
     "name": "stdout",
     "output_type": "stream",
     "text": [
      "[6700, 8858, 8858, 8858, 8858]\n",
      "Counter({8858: 4, 6700: 1})\n",
      "6700 1\n",
      "8858 4\n"
     ]
    },
    {
     "data": {
      "text/plain": [
       "8858"
      ]
     },
     "execution_count": 117,
     "metadata": {},
     "output_type": "execute_result"
    }
   ],
   "source": [
    "arr =[6700,8858,8858,8858,8858]\n",
    "findSpecialInteger(arr)"
   ]
  },
  {
   "cell_type": "code",
   "execution_count": null,
   "id": "d7e822ef",
   "metadata": {},
   "outputs": [],
   "source": []
  },
  {
   "cell_type": "code",
   "execution_count": null,
   "id": "c44f6b4f",
   "metadata": {},
   "outputs": [],
   "source": []
  },
  {
   "cell_type": "code",
   "execution_count": null,
   "id": "e0977037",
   "metadata": {},
   "outputs": [],
   "source": []
  },
  {
   "cell_type": "code",
   "execution_count": null,
   "id": "983927ae",
   "metadata": {},
   "outputs": [],
   "source": []
  },
  {
   "cell_type": "code",
   "execution_count": null,
   "id": "428107ed",
   "metadata": {},
   "outputs": [],
   "source": []
  },
  {
   "cell_type": "code",
   "execution_count": null,
   "id": "873144de",
   "metadata": {},
   "outputs": [],
   "source": []
  }
 ],
 "metadata": {
  "kernelspec": {
   "display_name": "Python 3 (ipykernel)",
   "language": "python",
   "name": "python3"
  },
  "language_info": {
   "codemirror_mode": {
    "name": "ipython",
    "version": 3
   },
   "file_extension": ".py",
   "mimetype": "text/x-python",
   "name": "python",
   "nbconvert_exporter": "python",
   "pygments_lexer": "ipython3",
   "version": "3.11.3"
  }
 },
 "nbformat": 4,
 "nbformat_minor": 5
}
