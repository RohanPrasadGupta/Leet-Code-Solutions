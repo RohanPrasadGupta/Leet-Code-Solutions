{
 "cells": [
  {
   "cell_type": "code",
   "execution_count": null,
   "id": "91ab3793",
   "metadata": {},
   "outputs": [],
   "source": []
  },
  {
   "cell_type": "markdown",
   "id": "a73e06f0",
   "metadata": {},
   "source": [
    "# 1351. Count Negative Numbers in a Sorted Matrix"
   ]
  },
  {
   "cell_type": "code",
   "execution_count": 5,
   "id": "4b984591",
   "metadata": {},
   "outputs": [],
   "source": [
    "def countNegatives(grid):\n",
    "    #print(grid)\n",
    "    count = 0\n",
    "    for subArr in grid:\n",
    "        #print(subArr)\n",
    "        for ele in subArr:\n",
    "            if ele<0:\n",
    "                count+=1\n",
    "    \n",
    "    return count"
   ]
  },
  {
   "cell_type": "code",
   "execution_count": 6,
   "id": "5b6064ba",
   "metadata": {},
   "outputs": [
    {
     "name": "stdout",
     "output_type": "stream",
     "text": [
      "[4, 3, 2, -1]\n",
      "[3, 2, 1, -1]\n",
      "[1, 1, -1, -2]\n",
      "[-1, -1, -2, -3]\n"
     ]
    },
    {
     "data": {
      "text/plain": [
       "8"
      ]
     },
     "execution_count": 6,
     "metadata": {},
     "output_type": "execute_result"
    }
   ],
   "source": [
    "grid = [[4,3,2,-1],[3,2,1,-1],[1,1,-1,-2],[-1,-1,-2,-3]]\n",
    "countNegatives(grid)"
   ]
  },
  {
   "cell_type": "code",
   "execution_count": null,
   "id": "1957557d",
   "metadata": {},
   "outputs": [],
   "source": []
  },
  {
   "cell_type": "markdown",
   "id": "6859b235",
   "metadata": {},
   "source": [
    "# 2529. Maximum Count of Positive Integer and Negative Integer"
   ]
  },
  {
   "cell_type": "code",
   "execution_count": 19,
   "id": "6ae18592",
   "metadata": {},
   "outputs": [],
   "source": [
    "def maximumCount(nums):\n",
    "    print(nums)\n",
    "    posCount = 0\n",
    "    negCount = 0\n",
    "    \n",
    "    for i in nums:\n",
    "        if i<0:\n",
    "            negCount+=1\n",
    "        elif i>0:\n",
    "            posCount+=1\n",
    "    \n",
    "    return max(negCount,posCount)"
   ]
  },
  {
   "cell_type": "code",
   "execution_count": 20,
   "id": "6f879f9f",
   "metadata": {},
   "outputs": [
    {
     "name": "stdout",
     "output_type": "stream",
     "text": [
      "[-2, -1, -1, 1, 2, 3]\n"
     ]
    },
    {
     "data": {
      "text/plain": [
       "3"
      ]
     },
     "execution_count": 20,
     "metadata": {},
     "output_type": "execute_result"
    }
   ],
   "source": [
    "nums = [-2,-1,-1,1,2,3]\n",
    "maximumCount(nums)"
   ]
  },
  {
   "cell_type": "code",
   "execution_count": 21,
   "id": "c6dbca87",
   "metadata": {},
   "outputs": [
    {
     "name": "stdout",
     "output_type": "stream",
     "text": [
      "[-3, -2, -1, 0, 0, 1, 2]\n"
     ]
    },
    {
     "data": {
      "text/plain": [
       "3"
      ]
     },
     "execution_count": 21,
     "metadata": {},
     "output_type": "execute_result"
    }
   ],
   "source": [
    "nums = [-3,-2,-1,0,0,1,2]\n",
    "maximumCount(nums)"
   ]
  },
  {
   "cell_type": "code",
   "execution_count": 22,
   "id": "485a5267",
   "metadata": {},
   "outputs": [
    {
     "name": "stdout",
     "output_type": "stream",
     "text": [
      "[5, 20, 66, 1314]\n"
     ]
    },
    {
     "data": {
      "text/plain": [
       "4"
      ]
     },
     "execution_count": 22,
     "metadata": {},
     "output_type": "execute_result"
    }
   ],
   "source": [
    "nums = [5,20,66,1314]\n",
    "maximumCount(nums)"
   ]
  },
  {
   "cell_type": "code",
   "execution_count": null,
   "id": "4167563a",
   "metadata": {},
   "outputs": [],
   "source": []
  },
  {
   "cell_type": "markdown",
   "id": "05e09f4b",
   "metadata": {},
   "source": []
  },
  {
   "cell_type": "code",
   "execution_count": 40,
   "id": "8c93966b",
   "metadata": {},
   "outputs": [
    {
     "data": {
      "text/plain": [
       "2"
      ]
     },
     "execution_count": 40,
     "metadata": {},
     "output_type": "execute_result"
    }
   ],
   "source": [
    "def findTheDistanceValue(arr1,arr2,d):\n",
    "    count = 0\n",
    "    for i in range(0,len(arr1)):\n",
    "        #print(arr1[i])\n",
    "        flag = True\n",
    "        for j in range(0,len(arr2)):\n",
    "            #print(arr1[i],arr2[j],abs(arr1[i]-arr2[j]))\n",
    "            if abs(arr1[i]-arr2[j]) <= d:\n",
    "                flag = False\n",
    "    \n",
    "        if flag== True:\n",
    "            count +=1\n",
    "    \n",
    "    return count\n",
    "        \n",
    "\n",
    "arr1 = [4,5,8]\n",
    "arr2 = [10,9,1,8]\n",
    "d = 2\n",
    "findTheDistanceValue(arr1,arr2,d)"
   ]
  },
  {
   "cell_type": "code",
   "execution_count": 41,
   "id": "800b9bfd",
   "metadata": {},
   "outputs": [
    {
     "data": {
      "text/plain": [
       "2"
      ]
     },
     "execution_count": 41,
     "metadata": {},
     "output_type": "execute_result"
    }
   ],
   "source": [
    "arr1 = [1,4,2,3]\n",
    "arr2 = [-4,-3,6,10,20,30]\n",
    "d = 3\n",
    "findTheDistanceValue(arr1,arr2,d)"
   ]
  },
  {
   "cell_type": "code",
   "execution_count": 42,
   "id": "993e8c25",
   "metadata": {},
   "outputs": [
    {
     "data": {
      "text/plain": [
       "1"
      ]
     },
     "execution_count": 42,
     "metadata": {},
     "output_type": "execute_result"
    }
   ],
   "source": [
    "arr1 = [2,1,100,3]\n",
    "arr2 = [-5,-2,10,-3,7]\n",
    "d = 6\n",
    "findTheDistanceValue(arr1,arr2,d)"
   ]
  },
  {
   "cell_type": "code",
   "execution_count": null,
   "id": "59fb7e31",
   "metadata": {},
   "outputs": [],
   "source": []
  },
  {
   "cell_type": "code",
   "execution_count": null,
   "id": "15b184a3",
   "metadata": {},
   "outputs": [],
   "source": []
  },
  {
   "cell_type": "code",
   "execution_count": null,
   "id": "5d9b98b3",
   "metadata": {},
   "outputs": [],
   "source": []
  },
  {
   "cell_type": "code",
   "execution_count": null,
   "id": "04e50b9c",
   "metadata": {},
   "outputs": [],
   "source": []
  },
  {
   "cell_type": "code",
   "execution_count": null,
   "id": "39ab0219",
   "metadata": {},
   "outputs": [],
   "source": []
  },
  {
   "cell_type": "code",
   "execution_count": null,
   "id": "10a8ed62",
   "metadata": {},
   "outputs": [],
   "source": []
  },
  {
   "cell_type": "code",
   "execution_count": null,
   "id": "818de3ee",
   "metadata": {},
   "outputs": [],
   "source": []
  },
  {
   "cell_type": "code",
   "execution_count": null,
   "id": "291e1af4",
   "metadata": {},
   "outputs": [],
   "source": []
  },
  {
   "cell_type": "code",
   "execution_count": null,
   "id": "88e61670",
   "metadata": {},
   "outputs": [],
   "source": []
  },
  {
   "cell_type": "code",
   "execution_count": null,
   "id": "0915f008",
   "metadata": {},
   "outputs": [],
   "source": []
  }
 ],
 "metadata": {
  "kernelspec": {
   "display_name": "Python 3 (ipykernel)",
   "language": "python",
   "name": "python3"
  },
  "language_info": {
   "codemirror_mode": {
    "name": "ipython",
    "version": 3
   },
   "file_extension": ".py",
   "mimetype": "text/x-python",
   "name": "python",
   "nbconvert_exporter": "python",
   "pygments_lexer": "ipython3",
   "version": "3.11.3"
  }
 },
 "nbformat": 4,
 "nbformat_minor": 5
}
