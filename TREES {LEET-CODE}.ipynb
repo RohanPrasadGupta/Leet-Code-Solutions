{
 "cells": [
  {
   "cell_type": "code",
   "execution_count": null,
   "id": "238e5776",
   "metadata": {},
   "outputs": [],
   "source": []
  },
  {
   "cell_type": "code",
   "execution_count": null,
   "id": "3da9d374",
   "metadata": {},
   "outputs": [],
   "source": []
  },
  {
   "cell_type": "markdown",
   "id": "141cc267",
   "metadata": {},
   "source": [
    "# 1379. Find a Corresponding Node of a Binary Tree in a Clone of That Tree"
   ]
  },
  {
   "cell_type": "code",
   "execution_count": null,
   "id": "5451de36",
   "metadata": {},
   "outputs": [],
   "source": [
    "# Definition for a binary tree node.\n",
    "# class TreeNode:\n",
    "#     def __init__(self, x):\n",
    "#         self.val = x\n",
    "#         self.left = None\n",
    "#         self.right = None\n",
    "\n",
    "class Solution:\n",
    "    def getTargetCopy(self, original: TreeNode, cloned: TreeNode, target: TreeNode) -> TreeNode:\n",
    "        def dfs(node):\n",
    "            if not node:\n",
    "                return None\n",
    "            elif node.val == target.val:\n",
    "                return node\n",
    "            \n",
    "            return dfs(node.left) or dfs(node.right)\n",
    "        \n",
    "        return dfs(cloned)\n"
   ]
  },
  {
   "cell_type": "markdown",
   "id": "ac8b4cec",
   "metadata": {},
   "source": [
    "* Solution 2"
   ]
  },
  {
   "cell_type": "code",
   "execution_count": null,
   "id": "169d6cad",
   "metadata": {},
   "outputs": [],
   "source": [
    "# Definition for a binary tree node.\n",
    "# class TreeNode:\n",
    "#     def __init__(self, x):\n",
    "#         self.val = x\n",
    "#         self.left = None\n",
    "#         self.right = None\n",
    "\n",
    "class Solution:\n",
    "    def getTargetCopy(self, original: TreeNode, cloned: TreeNode, target: TreeNode) -> TreeNode:\n",
    "        def dfs(node1,node2):\n",
    "            if not node1:\n",
    "                return None\n",
    "            elif node1 == target:\n",
    "                return node2\n",
    "            \n",
    "            return dfs(node1.left , node2.left) or dfs(node1.right,node2.right)\n",
    "        \n",
    "        return dfs(original,cloned)"
   ]
  },
  {
   "cell_type": "code",
   "execution_count": null,
   "id": "66eacb38",
   "metadata": {},
   "outputs": [],
   "source": []
  },
  {
   "cell_type": "code",
   "execution_count": null,
   "id": "792d84f2",
   "metadata": {},
   "outputs": [],
   "source": []
  },
  {
   "cell_type": "markdown",
   "id": "9874da0b",
   "metadata": {},
   "source": [
    "# 938. Range Sum of BST"
   ]
  },
  {
   "cell_type": "code",
   "execution_count": null,
   "id": "cdc61a05",
   "metadata": {},
   "outputs": [],
   "source": [
    "# Definition for a binary tree node.\n",
    "# class TreeNode:\n",
    "#     def __init__(self, val=0, left=None, right=None):\n",
    "#         self.val = val\n",
    "#         self.left = left\n",
    "#         self.right = right\n",
    "class Solution:\n",
    "    def rangeSumBST(self, root: Optional[TreeNode], low: int, high: int) -> int:\n",
    "        res = 0\n",
    "        def dfs(node):\n",
    "            nonlocal res \n",
    "            if not node:\n",
    "                return None\n",
    "            elif low<= node.val <= high:\n",
    "                res+= node.val\n",
    "            dfs(node.left)\n",
    "            dfs(node.right)\n",
    "        \n",
    "        dfs(root)\n",
    "        return res \n",
    "\n"
   ]
  },
  {
   "cell_type": "code",
   "execution_count": null,
   "id": "b9554e9f",
   "metadata": {},
   "outputs": [],
   "source": []
  },
  {
   "cell_type": "markdown",
   "id": "30a1b277",
   "metadata": {},
   "source": [
    "# 2236. Root Equals Sum of Children\n"
   ]
  },
  {
   "cell_type": "code",
   "execution_count": null,
   "id": "1a206379",
   "metadata": {},
   "outputs": [],
   "source": [
    "# Definition for a binary tree node.\n",
    "# class TreeNode:\n",
    "#     def __init__(self, val=0, left=None, right=None):\n",
    "#         self.val = val\n",
    "#         self.left = left\n",
    "#         self.right = right\n",
    "class Solution:\n",
    "    def checkTree(self, root: Optional[TreeNode]) -> bool:\n",
    "        if root is None:\n",
    "            return True\n",
    "        \n",
    "        if (root.left and root.val != root.left.val + root.right.val) or (root.right and root.val != root.right.val + root.left.val):\n",
    "            return False\n",
    "        \n",
    "        return self.checkTree(root.left) and self.checkTree(root.right)"
   ]
  },
  {
   "cell_type": "code",
   "execution_count": null,
   "id": "3b09c755",
   "metadata": {},
   "outputs": [],
   "source": []
  },
  {
   "cell_type": "code",
   "execution_count": null,
   "id": "af6db095",
   "metadata": {},
   "outputs": [],
   "source": []
  },
  {
   "cell_type": "markdown",
   "id": "4577eb5b",
   "metadata": {},
   "source": [
    "# 617. Merge Two Binary Trees"
   ]
  },
  {
   "cell_type": "code",
   "execution_count": null,
   "id": "789e48c7",
   "metadata": {},
   "outputs": [],
   "source": []
  },
  {
   "cell_type": "code",
   "execution_count": null,
   "id": "3bad55c2",
   "metadata": {},
   "outputs": [],
   "source": [
    "# Definition for a binary tree node.\n",
    "# class TreeNode:\n",
    "#     def __init__(self, val=0, left=None, right=None):\n",
    "#         self.val = val\n",
    "#         self.left = left\n",
    "#         self.right = right\n",
    "class Solution:\n",
    "    def mergeTrees(self, root1: Optional[TreeNode], root2: Optional[TreeNode]) -> Optional[TreeNode]:\n",
    "        if not root1 and not root2:\n",
    "            return None\n",
    "        \n",
    "        v1 = root1.val if root1 else 0\n",
    "        v2 = root2.val if root2 else 0\n",
    "        root = TreeNode(v1+v2)\n",
    "\n",
    "        root.left = self.mergeTrees(root1.left if root1 else None, root2.left if root2 else None)\n",
    "        root.right = self.mergeTrees(root1.right if root1 else None, root2.right if root2 else None)\n",
    "\n",
    "        return root\n",
    "\n",
    "\n",
    "        "
   ]
  },
  {
   "cell_type": "code",
   "execution_count": null,
   "id": "4d01f532",
   "metadata": {},
   "outputs": [],
   "source": []
  },
  {
   "cell_type": "code",
   "execution_count": null,
   "id": "259921db",
   "metadata": {},
   "outputs": [],
   "source": []
  },
  {
   "cell_type": "markdown",
   "id": "ad7a1775",
   "metadata": {},
   "source": [
    "# 700. Search in a Binary Search Tree"
   ]
  },
  {
   "cell_type": "code",
   "execution_count": null,
   "id": "c4bafb38",
   "metadata": {},
   "outputs": [],
   "source": [
    "# Definition for a binary tree node.\n",
    "# class TreeNode:\n",
    "#     def __init__(self, val=0, left=None, right=None):\n",
    "#         self.val = val\n",
    "#         self.left = left\n",
    "#         self.right = right\n",
    "class Solution:\n",
    "    def searchBST(self, root: Optional[TreeNode], val: int) -> Optional[TreeNode]:\n",
    "        if not root or  root.val==val:\n",
    "            return root\n",
    "        \n",
    "        if val < root.val:\n",
    "            return self.searchBST(root.left,val)\n",
    "        else:\n",
    "            return self.searchBST(root.right,val)"
   ]
  },
  {
   "cell_type": "code",
   "execution_count": null,
   "id": "b82efe1a",
   "metadata": {},
   "outputs": [],
   "source": []
  },
  {
   "cell_type": "code",
   "execution_count": null,
   "id": "be79d6a3",
   "metadata": {},
   "outputs": [],
   "source": []
  },
  {
   "cell_type": "code",
   "execution_count": null,
   "id": "9136090b",
   "metadata": {},
   "outputs": [],
   "source": []
  },
  {
   "cell_type": "code",
   "execution_count": null,
   "id": "9806b17e",
   "metadata": {},
   "outputs": [],
   "source": []
  },
  {
   "cell_type": "code",
   "execution_count": null,
   "id": "0e312bdc",
   "metadata": {},
   "outputs": [],
   "source": []
  },
  {
   "cell_type": "code",
   "execution_count": null,
   "id": "64bad911",
   "metadata": {},
   "outputs": [],
   "source": []
  }
 ],
 "metadata": {
  "kernelspec": {
   "display_name": "Python 3 (ipykernel)",
   "language": "python",
   "name": "python3"
  },
  "language_info": {
   "codemirror_mode": {
    "name": "ipython",
    "version": 3
   },
   "file_extension": ".py",
   "mimetype": "text/x-python",
   "name": "python",
   "nbconvert_exporter": "python",
   "pygments_lexer": "ipython3",
   "version": "3.11.3"
  }
 },
 "nbformat": 4,
 "nbformat_minor": 5
}
