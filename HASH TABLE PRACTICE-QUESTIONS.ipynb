{
 "cells": [
  {
   "cell_type": "code",
   "execution_count": 1,
   "id": "aec9047d",
   "metadata": {},
   "outputs": [
    {
     "name": "stdout",
     "output_type": "stream",
     "text": [
      "[-1, 2, 1, -4]\n",
      "[-1, -1, 2]\n",
      "[-1, -1, 1]\n",
      "[-1, -1, -4]\n",
      "[-1, 2, 1]\n",
      "[-1, 2, -4]\n",
      "[-1, 1, -4]\n",
      "[2, 2, 1]\n",
      "[2, 2, -4]\n",
      "[2, 1, -4]\n",
      "[0, -1, -6, 2, -3, -4, 5, 0, -1]\n",
      "[-6, -4, -3, -1, -1, 0, 0, 2, 5]\n"
     ]
    },
    {
     "data": {
      "text/plain": [
       "2"
      ]
     },
     "execution_count": 1,
     "metadata": {},
     "output_type": "execute_result"
    }
   ],
   "source": [
    "def threeSumClosest(nums,target):\n",
    "    res = []\n",
    "    print(nums)\n",
    "    if len(nums)<=3:\n",
    "        return(sum(nums))\n",
    "    else:\n",
    "        for i in range(0,len(nums)-2):\n",
    "            for j in range(i,len(nums)-1):\n",
    "                for k in range(j+1,len(nums)):\n",
    "                    print([nums[i],nums[j],nums[k]])\n",
    "                    c = [nums[i],nums[j],nums[k]]\n",
    "                    res.append(sum(c))\n",
    "\n",
    "    print(res)\n",
    "    print(sorted(res))\n",
    "    j = len(res)-1\n",
    "    for i in range(len(res)):\n",
    "        if \n",
    "        \n",
    "\n",
    "nums = [-1,2,1,-4]\n",
    "target = 1\n",
    "threeSumClosest(nums,target)\n",
    "\n",
    "\n",
    "\n"
   ]
  },
  {
   "cell_type": "code",
   "execution_count": null,
   "id": "c2a4bd41",
   "metadata": {},
   "outputs": [],
   "source": []
  },
  {
   "cell_type": "code",
   "execution_count": 6,
   "id": "1528533d",
   "metadata": {},
   "outputs": [
    {
     "data": {
      "text/plain": [
       "3"
      ]
     },
     "execution_count": 6,
     "metadata": {},
     "output_type": "execute_result"
    }
   ],
   "source": [
    "def threeSumClosest(nums,target):\n",
    "    nums.sort()\n",
    "    closest_sum = float('inf')\n",
    "    \n",
    "    for i in range(len(nums)-2):\n",
    "        left , right = i+1, len(nums)-1\n",
    "        \n",
    "        while left < right:\n",
    "            curr_sum = nums[i] + nums[left] + nums[right]\n",
    "            \n",
    "            if abs(curr_sum-target) < abs(closest_sum-target):\n",
    "                closest_sum = curr_sum\n",
    "        \n",
    "            if curr_sum < target:\n",
    "                left +=1\n",
    "            else:\n",
    "                right -=1\n",
    "        \n",
    "        if closest_sum == target:\n",
    "            return closest_sum\n",
    "    \n",
    "    return closest_sum\n",
    "\n",
    "    \n",
    "    \n",
    "    \n",
    "nums = [1,1,1,1]\n",
    "target = 0\n",
    "threeSumClosest(nums,target)"
   ]
  },
  {
   "cell_type": "code",
   "execution_count": null,
   "id": "8d9ee8b9",
   "metadata": {},
   "outputs": [],
   "source": []
  },
  {
   "cell_type": "markdown",
   "id": "b8a4d13b",
   "metadata": {},
   "source": [
    "# Decode a String"
   ]
  },
  {
   "cell_type": "code",
   "execution_count": 15,
   "id": "44d690df",
   "metadata": {},
   "outputs": [
    {
     "name": "stdout",
     "output_type": "stream",
     "text": [
      "a\n",
      "97\n",
      "c\n"
     ]
    }
   ],
   "source": [
    "print(chr(ord('a')))\n",
    "print(ord('a'))\n",
    "print(chr(ord('a') + 2))"
   ]
  },
  {
   "cell_type": "code",
   "execution_count": 14,
   "id": "3e2dfc47",
   "metadata": {},
   "outputs": [
    {
     "name": "stdout",
     "output_type": "stream",
     "text": [
      "Key : the quick brown fox jumps over the lazy dog\n",
      "Message : vkbs bs t suepuv\n",
      "{'a': 'v', 'b': 'i', 'c': 'g', 'd': 'y', 'e': 'c', 'f': 'n', 'g': 'z', 'h': 'b', 'i': 'f', 'j': 'p', 'k': 'h', 'l': 'u', 'm': 'q', 'n': 'm', 'o': 'k', 'p': 'r', 'q': 'd', 'r': 'j', 's': 's', 't': 'a', 'u': 'e', 'v': 't', 'w': 'l', 'x': 'o', 'y': 'x', 'z': 'w'}\n"
     ]
    },
    {
     "data": {
      "text/plain": [
       "'this is a secret'"
      ]
     },
     "execution_count": 14,
     "metadata": {},
     "output_type": "execute_result"
    }
   ],
   "source": [
    "def decodeMsg(key,message):\n",
    "    print('Key :',key)\n",
    "    print('Message :',message)\n",
    "    substitue_table = {}\n",
    "    \n",
    "    for letter in 'abcdefghijklmnopqrstuvwxyz':\n",
    "        substitue_table[letter] = ' '\n",
    "    \n",
    "    #print(substitue_table)\n",
    "    \n",
    "    key_index = 0\n",
    "    for letter in key:\n",
    "        if letter != ' ' and substitue_table[letter] == ' ':\n",
    "            substitue_table[letter] = chr(ord('a')+key_index)\n",
    "            key_index +=1\n",
    "    \n",
    "    print(substitue_table)\n",
    "    \n",
    "    decode_msg =''\n",
    "    for letter in message:\n",
    "        if letter == ' ':\n",
    "            decode_msg += ' '\n",
    "        else:\n",
    "            decode_msg += substitue_table[letter]\n",
    "        \n",
    "    \n",
    "    return decode_msg\n",
    "    \n",
    "\n",
    "    \n",
    "    \n",
    "    \n",
    "    \n",
    "    \n",
    "    \n",
    "    \n",
    "    \n",
    "key = \"the quick brown fox jumps over the lazy dog\"\n",
    "message = \"vkbs bs t suepuv\"\n",
    "decodeMsg(key,message)"
   ]
  },
  {
   "cell_type": "code",
   "execution_count": null,
   "id": "8c2ebdaa",
   "metadata": {},
   "outputs": [],
   "source": []
  },
  {
   "cell_type": "code",
   "execution_count": null,
   "id": "9adb9b31",
   "metadata": {},
   "outputs": [],
   "source": []
  },
  {
   "cell_type": "markdown",
   "id": "a3bcc6e0",
   "metadata": {},
   "source": [
    "# Number of Arithmetic Triplets"
   ]
  },
  {
   "cell_type": "code",
   "execution_count": null,
   "id": "a298d4f3",
   "metadata": {},
   "outputs": [],
   "source": []
  },
  {
   "cell_type": "code",
   "execution_count": 7,
   "id": "7fae47b5",
   "metadata": {},
   "outputs": [
    {
     "name": "stdout",
     "output_type": "stream",
     "text": [
      "[[4, 6, 8], [5, 7, 9]]\n",
      "2\n"
     ]
    }
   ],
   "source": [
    "nums = [4,5,6,7,8,9]\n",
    "diff = 2\n",
    "res = []\n",
    "for i in range(len(nums)-2):\n",
    "    for j in range(i+1,len(nums)-1):\n",
    "        for k in range(j+1,len(nums)):\n",
    "            #print([nums[i],nums[j],nums[k]])\n",
    "            if (nums[i]< nums[j]) and (nums[j] - nums[i] == diff) and (nums[j]< nums[k]) and (nums[k] - nums[j] == diff):\n",
    "                res.append([nums[i],nums[j],nums[k]])\n",
    "\n",
    "print(res)\n",
    "print(len(res))\n",
    "                \n",
    "                \n",
    "    \n",
    "\n",
    "\n",
    "\n",
    "\n",
    "\n"
   ]
  },
  {
   "cell_type": "code",
   "execution_count": null,
   "id": "6978ef45",
   "metadata": {},
   "outputs": [],
   "source": []
  },
  {
   "cell_type": "code",
   "execution_count": null,
   "id": "0ff86b9c",
   "metadata": {},
   "outputs": [],
   "source": []
  },
  {
   "cell_type": "code",
   "execution_count": null,
   "id": "e7fd6665",
   "metadata": {},
   "outputs": [],
   "source": []
  },
  {
   "cell_type": "code",
   "execution_count": null,
   "id": "623895b6",
   "metadata": {},
   "outputs": [],
   "source": []
  },
  {
   "cell_type": "markdown",
   "id": "a880ebdc",
   "metadata": {},
   "source": [
    "# 1189. Maximum Number of Balloons"
   ]
  },
  {
   "cell_type": "code",
   "execution_count": 37,
   "id": "c611311f",
   "metadata": {},
   "outputs": [
    {
     "name": "stdout",
     "output_type": "stream",
     "text": [
      "genText:  {'l': 4, 'o': 3, 'n': 2, 'b': 2, 'a': 2, 'x': 1, 'p': 1}\n"
     ]
    },
    {
     "data": {
      "text/plain": [
       "1"
      ]
     },
     "execution_count": 37,
     "metadata": {},
     "output_type": "execute_result"
    }
   ],
   "source": [
    "def charCounter(text):\n",
    "    neededText = {'b':1, 'a':1,'l':2, 'o':2,'n':1}\n",
    "    genText = {}\n",
    "              \n",
    "    for char in text:\n",
    "        if char in genText:\n",
    "            genText[char] +=1\n",
    "        else:\n",
    "            genText[char] = 1\n",
    "\n",
    "    print(\"genText: \",genText)\n",
    "\n",
    "    word_count = float('inf')\n",
    "\n",
    "    for char, count in neededText.items():\n",
    "        #print(char,count)\n",
    "        if char in genText:\n",
    "            word_count = min(word_count,genText[char]//count)\n",
    "        else:\n",
    "            return 0\n",
    "    \n",
    "    return word_count\n",
    "    \n",
    "    \n",
    "text = \"lonbalxballpoon\"\n",
    "charCounter(text)\n",
    "\n",
    "\n",
    "\n",
    "\n",
    "\n",
    "\n",
    "\n"
   ]
  },
  {
   "cell_type": "code",
   "execution_count": 20,
   "id": "8177e6fe",
   "metadata": {},
   "outputs": [
    {
     "name": "stdout",
     "output_type": "stream",
     "text": [
      "[1, 3]\n"
     ]
    }
   ],
   "source": [
    "t = [1,2,3]\n",
    "t.remove(2)\n",
    "print(t)"
   ]
  },
  {
   "cell_type": "code",
   "execution_count": 28,
   "id": "0000ce53",
   "metadata": {},
   "outputs": [
    {
     "name": "stdout",
     "output_type": "stream",
     "text": [
      "inf\n"
     ]
    },
    {
     "data": {
      "text/plain": [
       "float"
      ]
     },
     "execution_count": 28,
     "metadata": {},
     "output_type": "execute_result"
    }
   ],
   "source": [
    "count = float('inf')\n",
    "print(count)\n",
    "type(count)"
   ]
  },
  {
   "cell_type": "code",
   "execution_count": 39,
   "id": "38541017",
   "metadata": {},
   "outputs": [
    {
     "data": {
      "text/plain": [
       "2"
      ]
     },
     "execution_count": 39,
     "metadata": {},
     "output_type": "execute_result"
    }
   ],
   "source": [
    "2//1"
   ]
  },
  {
   "cell_type": "code",
   "execution_count": null,
   "id": "041ac0e4",
   "metadata": {},
   "outputs": [],
   "source": []
  },
  {
   "attachments": {
    "image.png": {
     "image/png": "[encoded data removed]"
    }
   },
   "cell_type": "markdown",
   "id": "ea37e897",
   "metadata": {},
   "source": [
    "# 2395. Find Subarrays With Equal Sum\n",
    "![image.png](attachment:image.png)"
   ]
  },
  {
   "cell_type": "code",
   "execution_count": 53,
   "id": "a901fb2c",
   "metadata": {},
   "outputs": [
    {
     "data": {
      "text/plain": [
       "True"
      ]
     },
     "execution_count": 53,
     "metadata": {},
     "output_type": "execute_result"
    }
   ],
   "source": [
    "def subArray(nums):\n",
    "    #print(nums)\n",
    "    res = []\n",
    "    for i in range(0,len(nums)-1):\n",
    "        if nums[i]+nums[i+1] in res:\n",
    "            return True\n",
    "        else:\n",
    "            res.append(nums[i]+nums[i+1])\n",
    "    \n",
    "    return False\n",
    "            \n",
    "\n",
    "nums = [4,2,4]\n",
    "subArray(nums)"
   ]
  },
  {
   "cell_type": "code",
   "execution_count": null,
   "id": "2a4171c0",
   "metadata": {},
   "outputs": [],
   "source": []
  },
  {
   "cell_type": "code",
   "execution_count": null,
   "id": "99f7ea11",
   "metadata": {},
   "outputs": [],
   "source": []
  },
  {
   "cell_type": "code",
   "execution_count": null,
   "id": "87d54bbf",
   "metadata": {},
   "outputs": [],
   "source": []
  },
  {
   "cell_type": "code",
   "execution_count": 70,
   "id": "5b30ea1c",
   "metadata": {},
   "outputs": [
    {
     "name": "stdout",
     "output_type": "stream",
     "text": [
      "['adgj', 'adgk', 'adgl', 'adhj', 'adhk', 'adhl', 'adij', 'adik', 'adil', 'aegj', 'aegk', 'aegl', 'aehj', 'aehk', 'aehl', 'aeij', 'aeik', 'aeil', 'afgj', 'afgk', 'afgl', 'afhj', 'afhk', 'afhl', 'afij', 'afik', 'afil', 'bdgj', 'bdgk', 'bdgl', 'bdhj', 'bdhk', 'bdhl', 'bdij', 'bdik', 'bdil', 'begj', 'begk', 'begl', 'behj', 'behk', 'behl', 'beij', 'beik', 'beil', 'bfgj', 'bfgk', 'bfgl', 'bfhj', 'bfhk', 'bfhl', 'bfij', 'bfik', 'bfil', 'cdgj', 'cdgk', 'cdgl', 'cdhj', 'cdhk', 'cdhl', 'cdij', 'cdik', 'cdil', 'cegj', 'cegk', 'cegl', 'cehj', 'cehk', 'cehl', 'ceij', 'ceik', 'ceil', 'cfgj', 'cfgk', 'cfgl', 'cfhj', 'cfhk', 'cfhl', 'cfij', 'cfik', 'cfil']\n"
     ]
    }
   ],
   "source": [
    "def multiply_elements(arrays):\n",
    "    if not arrays:\n",
    "        return ['']\n",
    "\n",
    "    result = []\n",
    "    sub_result = multiply_elements(arrays[1:])\n",
    "\n",
    "    for char in arrays[0]:\n",
    "        for item in sub_result:\n",
    "            result.append(char + item)\n",
    "\n",
    "    return result\n",
    "\n",
    "a = ['abc', 'def', 'ghi', 'jkl']\n",
    "\n",
    "result = multiply_elements(a)\n",
    "\n",
    "print(result)\n"
   ]
  },
  {
   "cell_type": "code",
   "execution_count": 77,
   "id": "57466ba9",
   "metadata": {},
   "outputs": [
    {
     "name": "stdout",
     "output_type": "stream",
     "text": [
      "['ad', 'ae', 'af', 'bd', 'be', 'bf', 'cd', 'ce', 'cf']\n"
     ]
    }
   ],
   "source": [
    "def letterCombination(digits):\n",
    "    res = []\n",
    "    num_letter = {'2': 'abc', '3': 'def', '4': 'ghi', '5': 'jkl', '6': 'mno', '7': 'pqrs', '8': 'tuv', '9': 'wxyz'}\n",
    "    \n",
    "    if len(digits) < 1:\n",
    "        return res\n",
    "    \n",
    "    # Helper function to generate letter combinations recursively\n",
    "    def generate_combinations(current_str, next_digits):\n",
    "        if not next_digits:\n",
    "            res.append(current_str)\n",
    "            return\n",
    "        current_digit = next_digits[0]\n",
    "        if current_digit in num_letter:\n",
    "            letters = num_letter[current_digit]\n",
    "            for letter in letters:\n",
    "                generate_combinations(current_str + letter, next_digits[1:])\n",
    "    \n",
    "    generate_combinations('', digits)\n",
    "    \n",
    "    return res\n",
    "\n",
    "digits = \"23\"\n",
    "result = letterCombination(digits)\n",
    "print(result)\n"
   ]
  },
  {
   "cell_type": "code",
   "execution_count": null,
   "id": "8912c59c",
   "metadata": {},
   "outputs": [],
   "source": []
  },
  {
   "cell_type": "code",
   "execution_count": null,
   "id": "1380f2c7",
   "metadata": {},
   "outputs": [],
   "source": []
  },
  {
   "cell_type": "markdown",
   "id": "16c7d44f",
   "metadata": {},
   "source": [
    "# 804. Unique Morse Code Words\n"
   ]
  },
  {
   "cell_type": "code",
   "execution_count": null,
   "id": "cdd6e3b2",
   "metadata": {},
   "outputs": [],
   "source": []
  },
  {
   "cell_type": "code",
   "execution_count": 104,
   "id": "0b695b46",
   "metadata": {},
   "outputs": [
    {
     "name": "stdout",
     "output_type": "stream",
     "text": [
      "a\n",
      "{'.-': 1}\n"
     ]
    },
    {
     "data": {
      "text/plain": [
       "1"
      ]
     },
     "execution_count": 104,
     "metadata": {},
     "output_type": "execute_result"
    }
   ],
   "source": [
    "def uniqueMorseRepresentations(words):\n",
    "    M_letter = [\".-\",\"-...\",\"-.-.\",\"-..\",\".\",\"..-.\",\"--.\",\"....\",\"..\",\".---\",\"-.-\",\".-..\",\"--\",\"-.\",\"---\",\".--.\",\"--.-\",\".-.\",\"...\",\"-\",\"..-\",\"...-\",\".--\",\"-..-\",\"-.--\",\"--..\"]\n",
    "\n",
    "    res = ''\n",
    "    hTable = {}\n",
    "\n",
    "    for i in range(0,len(words)):\n",
    "        print(words[i])\n",
    "        for char in words[i]:\n",
    "            #print(char)\n",
    "            res += M_letter[ord(char)- ord('a')]\n",
    "    \n",
    "        if res in hTable:\n",
    "            hTable[res] +=1\n",
    "        else:\n",
    "            hTable[res] = 1\n",
    "        \n",
    "        res = ''\n",
    "\n",
    "    #print(res)\n",
    "    print(hTable)\n",
    "    return(len(hTable))    \n",
    "\n",
    "\n",
    "words = [\"a\"]\n",
    "uniqueMorseRepresentations(words)\n",
    "\n",
    "\n"
   ]
  },
  {
   "cell_type": "code",
   "execution_count": null,
   "id": "6b05fa6f",
   "metadata": {},
   "outputs": [],
   "source": []
  },
  {
   "cell_type": "code",
   "execution_count": 109,
   "id": "a43040bb",
   "metadata": {},
   "outputs": [
    {
     "name": "stdout",
     "output_type": "stream",
     "text": [
      "{'--...--.', '--...-.'}\n",
      "2\n"
     ]
    }
   ],
   "source": [
    "def uniqueMorseRepresentations(words):\n",
    "    M_letter = [\".-\",\"-...\",\"-.-.\",\"-..\",\".\",\"..-.\",\"--.\",\"....\",\"..\",\".---\",\"-.-\",\".-..\",\"--\",\"-.\",\"---\",\".--.\",\"--.-\",\".-.\",\"...\",\"-\",\"..-\",\"...-\",\".--\",\"-..-\",\"-.--\",\"--..\"]\n",
    "    Uni_word = set()\n",
    "    \n",
    "    for word in words:\n",
    "        #print(word)\n",
    "        Mcode = ''.join(M_letter[ord(char)-ord('a')] for char in word)\n",
    "        #print(Mcode)\n",
    "        Uni_word.add(Mcode)\n",
    "    \n",
    "    print(Uni_word)\n",
    "    print(len(Uni_word))\n",
    "    \n",
    "\n",
    "    \n",
    "\n",
    "\n",
    "words = [\"gin\",\"zen\",\"gig\",\"msg\"]\n",
    "uniqueMorseRepresentations(words)"
   ]
  },
  {
   "cell_type": "code",
   "execution_count": null,
   "id": "e23c8a67",
   "metadata": {},
   "outputs": [],
   "source": []
  },
  {
   "cell_type": "code",
   "execution_count": null,
   "id": "51dc2487",
   "metadata": {},
   "outputs": [],
   "source": []
  },
  {
   "cell_type": "markdown",
   "id": "403a8103",
   "metadata": {},
   "source": [
    "# 2103. Rings and Rods"
   ]
  },
  {
   "cell_type": "code",
   "execution_count": 18,
   "id": "47c4c936",
   "metadata": {},
   "outputs": [
    {
     "data": {
      "text/plain": [
       "1"
      ]
     },
     "execution_count": 18,
     "metadata": {},
     "output_type": "execute_result"
    }
   ],
   "source": [
    "def countPoints(rings):\n",
    "    #print(rings)\n",
    "    ringRod = dict()\n",
    "    \n",
    "    for i in range(0,len(rings),2):\n",
    "        color = rings[i]\n",
    "        rod = rings[i+1]\n",
    "        if rod in ringRod:\n",
    "            ringRod[rod] += color\n",
    "        else:\n",
    "            ringRod[rod] = color\n",
    "        \n",
    "    #print(ringRod)\n",
    "    count = 0\n",
    "    #res = []\n",
    "    for i in ringRod:\n",
    "        #print(ringRod[i])\n",
    "        if ('R' in ringRod[i] and 'B' in ringRod[i] and 'G' in ringRod[i] ):\n",
    "            #res.append([i , ringRod[i]])\n",
    "            count = count + 1 \n",
    "    \n",
    "    #print(res)\n",
    "    return (count)\n",
    "    \n",
    "    \n",
    "rings = \"B0R0G0R9R0B0G0\"\n",
    "countPoints(rings)"
   ]
  },
  {
   "cell_type": "code",
   "execution_count": null,
   "id": "866171c8",
   "metadata": {},
   "outputs": [],
   "source": []
  },
  {
   "cell_type": "markdown",
   "id": "5615d42e",
   "metadata": {},
   "source": [
    "# 2418. Sort the People"
   ]
  },
  {
   "cell_type": "code",
   "execution_count": 26,
   "id": "d2f90669",
   "metadata": {},
   "outputs": [
    {
     "name": "stdout",
     "output_type": "stream",
     "text": [
      "['Mary', 'John', 'Emma']\n",
      "[180, 165, 170]\n",
      "{'Mary': 180, 'John': 165, 'Emma': 170}\n",
      "{'Mary': 180, 'John': 165, 'Emma': 170}\n",
      "[165, 170, 180]\n",
      "['John', 'Emma', 'Mary']\n"
     ]
    },
    {
     "data": {
      "text/plain": [
       "['Mary', 'Emma', 'John']"
      ]
     },
     "execution_count": 26,
     "metadata": {},
     "output_type": "execute_result"
    }
   ],
   "source": [
    "def sortPeople(names,heights):\n",
    "    print(names)\n",
    "    print(heights)\n",
    "    peopleName = {}\n",
    "    for i in range(0,len(names)):\n",
    "        peopleName[names[i]] = heights[i]\n",
    "    \n",
    "    print(peopleName)\n",
    "    print(peopleName)\n",
    "    \n",
    "    for i in range(0,len(names)):\n",
    "        for j in range(i+1,len(names)):\n",
    "            if heights[i]>heights[j]:\n",
    "                heights[j] , heights[i] = heights[i] ,heights[j]\n",
    "                names[j] , names[i] = names[i] , names[j]\n",
    "    \n",
    "    print(heights)\n",
    "    print(names)\n",
    "    return names[::-1]\n",
    "    \n",
    "    \n",
    "\n",
    "    \n",
    "names = [\"Mary\",\"John\",\"Emma\"]\n",
    "heights = [180,165,170]\n",
    "sortPeople(names,heights)"
   ]
  },
  {
   "cell_type": "code",
   "execution_count": null,
   "id": "3fc82c49",
   "metadata": {},
   "outputs": [],
   "source": []
  },
  {
   "cell_type": "code",
   "execution_count": null,
   "id": "5010b51a",
   "metadata": {},
   "outputs": [],
   "source": []
  },
  {
   "cell_type": "markdown",
   "id": "44bc8078",
   "metadata": {},
   "source": [
    "# 2215. Find the Difference of Two Array\n"
   ]
  },
  {
   "cell_type": "code",
   "execution_count": 42,
   "id": "f82d9e5a",
   "metadata": {},
   "outputs": [
    {
     "data": {
      "text/plain": [
       "[[3], []]"
      ]
     },
     "execution_count": 42,
     "metadata": {},
     "output_type": "execute_result"
    }
   ],
   "source": [
    "def diffTwoArray(nums1,nums2):\n",
    "    res = []\n",
    "    temp = []\n",
    "    for i in range(0,len(nums1)):\n",
    "        if nums1[i] not in nums2 and nums1[i] not in temp:\n",
    "            temp.append(nums1[i])\n",
    "    res.append(temp)\n",
    "    temp = []\n",
    "    for i in range(0,len(nums2)):\n",
    "        if nums2[i] not in nums1 and nums2[i] not in temp:\n",
    "            temp.append(nums2[i])\n",
    "    res.append(temp)\n",
    "\n",
    "    return(res)\n",
    "\n",
    "nums1 = [1,2,3,3]\n",
    "nums2 = [1,1,2,2]\n",
    "diffTwoArray(nums1,nums2)\n",
    "\n"
   ]
  },
  {
   "cell_type": "code",
   "execution_count": 75,
   "id": "9137d5b8",
   "metadata": {},
   "outputs": [
    {
     "data": {
      "text/plain": [
       "([3], [])"
      ]
     },
     "execution_count": 75,
     "metadata": {},
     "output_type": "execute_result"
    }
   ],
   "source": [
    "def diffTwoArray(nums1,nums2):\n",
    "    return list(set(x for x in nums1 if x not in nums2)),list(set(x for x in nums2 if x not in nums1))\n",
    "\n",
    "\n",
    "nums1 = [1,2,3,3]\n",
    "nums2 = [1,1,2,2]\n",
    "diffTwoArray(nums1,nums2)"
   ]
  },
  {
   "cell_type": "code",
   "execution_count": null,
   "id": "d3662c46",
   "metadata": {},
   "outputs": [],
   "source": []
  },
  {
   "cell_type": "code",
   "execution_count": null,
   "id": "ab165ff2",
   "metadata": {},
   "outputs": [],
   "source": []
  },
  {
   "cell_type": "code",
   "execution_count": null,
   "id": "56ff733a",
   "metadata": {},
   "outputs": [],
   "source": []
  },
  {
   "cell_type": "markdown",
   "id": "dfdab75a",
   "metadata": {},
   "source": [
    "# 2744. Find Maximum Number of String Pairs"
   ]
  },
  {
   "cell_type": "code",
   "execution_count": 23,
   "id": "e63d6dad",
   "metadata": {},
   "outputs": [
    {
     "name": "stdout",
     "output_type": "stream",
     "text": [
      "2\n",
      "{'zz'}\n"
     ]
    }
   ],
   "source": [
    "words = [\"cd\", \"ac\", \"dc\", \"ca\", \"zz\"]\n",
    "\n",
    "revSet = set()\n",
    "count = 0\n",
    "\n",
    "for word in words:\n",
    "    #print(word,word[::-1])\n",
    "    revWord = word[::-1]\n",
    "    \n",
    "    if revWord in revSet:\n",
    "        #print('if run')\n",
    "        revSet.remove(revWord)\n",
    "        count+=1\n",
    "        #print(count)\n",
    "    else:\n",
    "        #print('else run')\n",
    "        revSet.add(word)\n",
    "\n",
    "print(count)\n",
    "print(revSet)    "
   ]
  },
  {
   "cell_type": "code",
   "execution_count": null,
   "id": "cf13183c",
   "metadata": {},
   "outputs": [],
   "source": []
  },
  {
   "cell_type": "code",
   "execution_count": null,
   "id": "0c5af38f",
   "metadata": {},
   "outputs": [],
   "source": []
  },
  {
   "cell_type": "markdown",
   "id": "718ea89a",
   "metadata": {},
   "source": [
    "# 1436. Destination City"
   ]
  },
  {
   "cell_type": "code",
   "execution_count": 33,
   "id": "740bd855",
   "metadata": {},
   "outputs": [
    {
     "data": {
      "text/plain": [
       "'Z'"
      ]
     },
     "execution_count": 33,
     "metadata": {},
     "output_type": "execute_result"
    }
   ],
   "source": [
    "def DestinationCity(paths):\n",
    "    outGoing = set()\n",
    "    inComing = set()\n",
    "\n",
    "    for x in paths:\n",
    "        outGoing.add(x[0])\n",
    "        inComing.add(x[1])\n",
    "\n",
    "    for i in inComing:\n",
    "        if i not in outGoing:\n",
    "            return i\n",
    "    \n",
    "    \n",
    "    #print(\"OUT: \",outGoing)\n",
    "    #print(\"IN: \",inComing)\n",
    "\n",
    "    \n",
    "paths = [[\"B\",\"C\"],[\"D\",\"B\"],[\"C\",\"A\"]]\n",
    "DestinationCity(paths)\n",
    "\n",
    "paths = [[\"London\",\"New York\"],[\"New York\",\"Lima\"],[\"Lima\",\"Sao Paulo\"]]\n",
    "DestinationCity(paths)\n",
    "\n",
    "paths = [[\"A\",\"Z\"]]\n",
    "DestinationCity(paths)\n"
   ]
  },
  {
   "cell_type": "code",
   "execution_count": null,
   "id": "4849056f",
   "metadata": {},
   "outputs": [],
   "source": []
  },
  {
   "cell_type": "markdown",
   "id": "060b62ef",
   "metadata": {},
   "source": [
    "# 1941. Check if All Characters Have Equal Number of Occurrences"
   ]
  },
  {
   "cell_type": "code",
   "execution_count": 56,
   "id": "7201c832",
   "metadata": {},
   "outputs": [
    {
     "data": {
      "text/plain": [
       "True"
      ]
     },
     "execution_count": 56,
     "metadata": {},
     "output_type": "execute_result"
    }
   ],
   "source": [
    "def equalOcc(s):\n",
    "    occTable = dict()\n",
    "    for i in s:\n",
    "        if i in occTable:\n",
    "            occTable[i]+=1\n",
    "        else:\n",
    "            occTable[i] = 1\n",
    "\n",
    "    #print(occTable)\n",
    "    val = occTable[s[0]]\n",
    "    #print(val)\n",
    "    if len(occTable)==1:\n",
    "        return True\n",
    "    for data,value in occTable.items():\n",
    "        #print(data,value)\n",
    "        if value != val:\n",
    "            return False\n",
    "    return True\n",
    "\n",
    "s = \"wzkpzzwzpzkwkpkppzkppkpkwwkzzzwwpwwk\"\n",
    "equalOcc(s)\n"
   ]
  },
  {
   "cell_type": "code",
   "execution_count": 57,
   "id": "6d293f15",
   "metadata": {},
   "outputs": [
    {
     "data": {
      "text/plain": [
       "False"
      ]
     },
     "execution_count": 57,
     "metadata": {},
     "output_type": "execute_result"
    }
   ],
   "source": [
    "s = \"aaabb\"\n",
    "equalOcc(s)"
   ]
  },
  {
   "cell_type": "code",
   "execution_count": 58,
   "id": "7e914b7b",
   "metadata": {},
   "outputs": [
    {
     "data": {
      "text/plain": [
       "True"
      ]
     },
     "execution_count": 58,
     "metadata": {},
     "output_type": "execute_result"
    }
   ],
   "source": [
    "s = \"abacbc\"\n",
    "equalOcc(s)\n"
   ]
  },
  {
   "cell_type": "code",
   "execution_count": 59,
   "id": "70eb69ab",
   "metadata": {},
   "outputs": [
    {
     "data": {
      "text/plain": [
       "True"
      ]
     },
     "execution_count": 59,
     "metadata": {},
     "output_type": "execute_result"
    }
   ],
   "source": [
    "s = \"vvvvvvvvvvvvvvvvvvv\"\n",
    "equalOcc(s)"
   ]
  },
  {
   "cell_type": "code",
   "execution_count": null,
   "id": "98b8839a",
   "metadata": {},
   "outputs": [],
   "source": []
  },
  {
   "cell_type": "code",
   "execution_count": null,
   "id": "9fa8eb01",
   "metadata": {},
   "outputs": [],
   "source": []
  },
  {
   "cell_type": "code",
   "execution_count": null,
   "id": "0442240d",
   "metadata": {},
   "outputs": [],
   "source": []
  },
  {
   "cell_type": "code",
   "execution_count": null,
   "id": "fa3040ff",
   "metadata": {},
   "outputs": [],
   "source": []
  },
  {
   "cell_type": "markdown",
   "id": "f8f0cfb4",
   "metadata": {},
   "source": [
    "# 2670. Find the Distinct Difference Array"
   ]
  },
  {
   "cell_type": "code",
   "execution_count": 25,
   "id": "5cefa3f6",
   "metadata": {},
   "outputs": [
    {
     "name": "stdout",
     "output_type": "stream",
     "text": [
      "left 1 right 3\n",
      "left 2 right 3\n",
      "left 2 right 2\n",
      "left 3 right 1\n",
      "left 3 right 0\n"
     ]
    },
    {
     "data": {
      "text/plain": [
       "[-2, -1, 0, 2, 3]"
      ]
     },
     "execution_count": 25,
     "metadata": {},
     "output_type": "execute_result"
    }
   ],
   "source": [
    "def distinctDifferenceArray(nums):\n",
    "    res = []\n",
    "    for i in range(0,len(nums)):\n",
    "        lset = set(nums[0:i+1])\n",
    "        rset = set(nums[i+1:])\n",
    "        print(\"left\",len(lset),'right',len(rset))\n",
    "        res.append(len(lset)-len(rset))\n",
    "        \n",
    "    return (res)\n",
    "\n",
    "        \n",
    "nums = [3,2,3,4,2]\n",
    "distinctDifferenceArray(nums)"
   ]
  },
  {
   "cell_type": "code",
   "execution_count": 26,
   "id": "dda0b4ad",
   "metadata": {},
   "outputs": [
    {
     "name": "stdout",
     "output_type": "stream",
     "text": [
      "left 1 right 4\n",
      "left 2 right 3\n",
      "left 3 right 2\n",
      "left 4 right 1\n",
      "left 5 right 0\n"
     ]
    },
    {
     "data": {
      "text/plain": [
       "[-3, -1, 1, 3, 5]"
      ]
     },
     "execution_count": 26,
     "metadata": {},
     "output_type": "execute_result"
    }
   ],
   "source": [
    "nums = [1,2,3,4,5]\n",
    "distinctDifferenceArray(nums)"
   ]
  },
  {
   "cell_type": "code",
   "execution_count": null,
   "id": "4951ba53",
   "metadata": {},
   "outputs": [],
   "source": []
  },
  {
   "cell_type": "code",
   "execution_count": null,
   "id": "38d5abdf",
   "metadata": {},
   "outputs": [],
   "source": []
  },
  {
   "cell_type": "markdown",
   "id": "2c1085cf",
   "metadata": {},
   "source": []
  },
  {
   "cell_type": "code",
   "execution_count": 52,
   "id": "39f12a29",
   "metadata": {},
   "outputs": [
    {
     "name": "stdout",
     "output_type": "stream",
     "text": [
      "{1: 1, 2: 2, 3: 1}\n",
      "4\n"
     ]
    }
   ],
   "source": [
    "def sumOfUnique(nums):\n",
    "    nDic = dict()\n",
    "    #print(nums)\n",
    "    for i in range(0,len(nums)):\n",
    "        if nums[i] in nDic:\n",
    "            nDic[nums[i]]+=1\n",
    "        else:\n",
    "            nDic[nums[i]] = 1\n",
    "            \n",
    "    print(nDic)\n",
    "    s = 0\n",
    "    for num,count in nDic.items():\n",
    "        #print(num,count)\n",
    "        if count == 1:\n",
    "            s+=num\n",
    "    \n",
    "    print(s)\n",
    "    \n",
    "    \n",
    "    \n",
    "    \n",
    "nums = [1,2,3,2]\n",
    "sumOfUnique(nums)"
   ]
  },
  {
   "cell_type": "code",
   "execution_count": 53,
   "id": "2c1778bf",
   "metadata": {},
   "outputs": [
    {
     "name": "stdout",
     "output_type": "stream",
     "text": [
      "{1: 5}\n",
      "0\n"
     ]
    }
   ],
   "source": [
    "nums = [1,1,1,1,1]\n",
    "sumOfUnique(nums)"
   ]
  },
  {
   "cell_type": "code",
   "execution_count": 54,
   "id": "7b52ecd2",
   "metadata": {},
   "outputs": [
    {
     "name": "stdout",
     "output_type": "stream",
     "text": [
      "{1: 1, 2: 1, 3: 1, 4: 1, 5: 1}\n",
      "15\n"
     ]
    }
   ],
   "source": [
    "nums = [1,2,3,4,5]\n",
    "sumOfUnique(nums)"
   ]
  },
  {
   "cell_type": "code",
   "execution_count": null,
   "id": "406edd3e",
   "metadata": {},
   "outputs": [],
   "source": []
  },
  {
   "cell_type": "code",
   "execution_count": null,
   "id": "c4113b6b",
   "metadata": {},
   "outputs": [],
   "source": []
  },
  {
   "cell_type": "code",
   "execution_count": null,
   "id": "8b6e2fc4",
   "metadata": {},
   "outputs": [],
   "source": []
  },
  {
   "cell_type": "markdown",
   "id": "e26c0f55",
   "metadata": {},
   "source": [
    "# 1370. Increasing Decreasing String"
   ]
  },
  {
   "cell_type": "code",
   "execution_count": null,
   "id": "b45902ce",
   "metadata": {},
   "outputs": [],
   "source": []
  },
  {
   "cell_type": "code",
   "execution_count": 76,
   "id": "f1b79c19",
   "metadata": {},
   "outputs": [
    {
     "name": "stdout",
     "output_type": "stream",
     "text": [
      "Counter({'a': 4, 'b': 4, 'c': 4})\n",
      "['a', 'b', 'c', 'c', 'b', 'a', 'a', 'b', 'c', 'c', 'b', 'a']\n"
     ]
    },
    {
     "data": {
      "text/plain": [
       "'abccbaabccba'"
      ]
     },
     "execution_count": 76,
     "metadata": {},
     "output_type": "execute_result"
    }
   ],
   "source": [
    "def sortString(s):\n",
    "    from collections import Counter\n",
    "    count_alpha = Counter(s)\n",
    "    print(count_alpha)\n",
    "    \n",
    "    unique_char = sorted(set(s))\n",
    "    #print(unique_char)\n",
    "    res = []\n",
    "    \n",
    "    while count_alpha:\n",
    "        for char in unique_char:\n",
    "            if char in count_alpha:\n",
    "                res.append(char)\n",
    "                count_alpha[char]-= 1\n",
    "                if count_alpha[char] == 0:\n",
    "                    del count_alpha[char]\n",
    "        \n",
    "        for char in unique_char[::-1]:\n",
    "            if char in count_alpha:\n",
    "                res.append(char)\n",
    "                count_alpha[char]-=1\n",
    "                if count_alpha[char] == 0:\n",
    "                    del count_alpha[char]\n",
    "        \n",
    "    print(res)\n",
    "    return ''.join(res)\n",
    "\n",
    "s = \"aaaabbbbcccc\"\n",
    "sortString(s)"
   ]
  },
  {
   "cell_type": "code",
   "execution_count": 77,
   "id": "4afb4230",
   "metadata": {},
   "outputs": [
    {
     "name": "stdout",
     "output_type": "stream",
     "text": [
      "Counter({'r': 1, 'a': 1, 't': 1})\n",
      "['a', 'r', 't']\n"
     ]
    },
    {
     "data": {
      "text/plain": [
       "'art'"
      ]
     },
     "execution_count": 77,
     "metadata": {},
     "output_type": "execute_result"
    }
   ],
   "source": [
    "s = \"rat\"\n",
    "sortString(s)"
   ]
  },
  {
   "cell_type": "code",
   "execution_count": null,
   "id": "465f0ccd",
   "metadata": {},
   "outputs": [],
   "source": []
  },
  {
   "cell_type": "markdown",
   "id": "2d39541a",
   "metadata": {},
   "source": [
    "# 961. N-Repeated Element in Size 2N Array"
   ]
  },
  {
   "cell_type": "code",
   "execution_count": 97,
   "id": "d145be52",
   "metadata": {},
   "outputs": [
    {
     "name": "stdout",
     "output_type": "stream",
     "text": [
      "5\n"
     ]
    }
   ],
   "source": [
    "def repeatedNTimes(nums):\n",
    "    from collections import Counter\n",
    "    num_dic = Counter(nums)\n",
    "    #print(num_dic)\n",
    "    \n",
    "    res_num = 0\n",
    "    max_count = 0 \n",
    "    for num , count in num_dic.items():\n",
    "        #print(num,count)\n",
    "        #print(type(num),type(count))\n",
    "        if count >= max_count:\n",
    "            #print(count,num,'IF')\n",
    "            max_count = count\n",
    "            res_num = num\n",
    "    \n",
    "    print(res_num)\n",
    "    \n",
    "    \n",
    "nums = [5,1,5,2,5,3,5,4]\n",
    "repeatedNTimes(nums)"
   ]
  },
  {
   "cell_type": "code",
   "execution_count": null,
   "id": "499db955",
   "metadata": {},
   "outputs": [],
   "source": []
  },
  {
   "cell_type": "code",
   "execution_count": 98,
   "id": "0f157070",
   "metadata": {},
   "outputs": [
    {
     "name": "stdout",
     "output_type": "stream",
     "text": [
      "2\n",
      "5\n"
     ]
    }
   ],
   "source": [
    "nums = [2,1,2,5,3,2]\n",
    "repeatedNTimes(nums)\n",
    "\n",
    "nums = [5,1,5,2,5,3,5,4]\n",
    "repeatedNTimes(nums)"
   ]
  },
  {
   "cell_type": "code",
   "execution_count": null,
   "id": "69918f0b",
   "metadata": {},
   "outputs": [],
   "source": []
  },
  {
   "cell_type": "markdown",
   "id": "2928d3d5",
   "metadata": {},
   "source": [
    "# 2341. Maximum Number of Pairs in Array"
   ]
  },
  {
   "cell_type": "code",
   "execution_count": 44,
   "id": "4c4b30b1",
   "metadata": {},
   "outputs": [
    {
     "data": {
      "text/plain": [
       "[3, 1]"
      ]
     },
     "execution_count": 44,
     "metadata": {},
     "output_type": "execute_result"
    }
   ],
   "source": [
    "def maxNumber(nums):\n",
    "    #print(nums)\n",
    "    numDic = {}\n",
    "    remCount = 0\n",
    "    pairCount = 0\n",
    "\n",
    "    for num in nums:\n",
    "        if num in numDic:\n",
    "            numDic[num] +=1\n",
    "        else:\n",
    "            numDic[num] = 1\n",
    "\n",
    "    for num in nums:\n",
    "        if numDic[num]>=2:\n",
    "            pairCount +=1\n",
    "            numDic[num]-=2\n",
    "    for count in numDic.values():\n",
    "        remCount+=count\n",
    "\n",
    "    return([pairCount,remCount])  \n",
    "    \n",
    "    \n",
    "   \n",
    "               \n",
    "    \n",
    "nums = [1,3,2,1,3,2,2]\n",
    "maxNumber(nums)"
   ]
  },
  {
   "cell_type": "code",
   "execution_count": 45,
   "id": "778ba0d7",
   "metadata": {},
   "outputs": [
    {
     "data": {
      "text/plain": [
       "[1, 0]"
      ]
     },
     "execution_count": 45,
     "metadata": {},
     "output_type": "execute_result"
    }
   ],
   "source": [
    "nums = [1,1]\n",
    "maxNumber(nums)"
   ]
  },
  {
   "cell_type": "code",
   "execution_count": 46,
   "id": "2bc23daf",
   "metadata": {},
   "outputs": [
    {
     "data": {
      "text/plain": [
       "[0, 1]"
      ]
     },
     "execution_count": 46,
     "metadata": {},
     "output_type": "execute_result"
    }
   ],
   "source": [
    "nums = [0]\n",
    "maxNumber(nums)"
   ]
  },
  {
   "cell_type": "code",
   "execution_count": null,
   "id": "c358e998",
   "metadata": {},
   "outputs": [],
   "source": []
  },
  {
   "cell_type": "code",
   "execution_count": null,
   "id": "88b14b90",
   "metadata": {},
   "outputs": [],
   "source": []
  },
  {
   "cell_type": "markdown",
   "id": "5505828c",
   "metadata": {},
   "source": [
    "# 2363. Merge Similar Items"
   ]
  },
  {
   "cell_type": "code",
   "execution_count": 67,
   "id": "5b3b6d0f",
   "metadata": {},
   "outputs": [
    {
     "data": {
      "text/plain": [
       "[[1, 6], [3, 9], [4, 5]]"
      ]
     },
     "execution_count": 67,
     "metadata": {},
     "output_type": "execute_result"
    }
   ],
   "source": [
    "def mergeSimilar(items1,items2):\n",
    "    #print(items1,items2)\n",
    "    itemDic = {}\n",
    "    \n",
    "    for i in range(0,len(items1)):\n",
    "        #print(items1[i])\n",
    "        #print(items1[i][0])\n",
    "        #print(items1[i][1])\n",
    "        if items1[i][0] in itemDic:\n",
    "            itemDic[items1[i][0]]+=items1[i][1]\n",
    "        else:\n",
    "            itemDic[items1[i][0]] = items1[i][1]\n",
    "    #FOR 2ND ITEM LISTS\n",
    "    for i in range(0,len(items2)):\n",
    "        if items2[i][0] in itemDic:\n",
    "            itemDic[items2[i][0]]+=items2[i][1]\n",
    "        else:\n",
    "            itemDic[items2[i][0]] = items2[i][1]\n",
    "        \n",
    "    #print(itemDic)\n",
    "    itemDic=dict(sorted(itemDic.items()))\n",
    "    \n",
    "    return [[num,count] for num,count in itemDic.items()]\n",
    "    \n",
    "        \n",
    "\n",
    "items1 = [[1,1],[4,5],[3,8]]\n",
    "items2 = [[3,1],[1,5]]\n",
    "mergeSimilar(items1,items2)"
   ]
  },
  {
   "cell_type": "code",
   "execution_count": 68,
   "id": "4f3deed2",
   "metadata": {},
   "outputs": [
    {
     "data": {
      "text/plain": [
       "[[1, 4], [2, 4], [3, 4]]"
      ]
     },
     "execution_count": 68,
     "metadata": {},
     "output_type": "execute_result"
    }
   ],
   "source": [
    "items1 = [[1,1],[3,2],[2,3]]\n",
    "items2 = [[2,1],[3,2],[1,3]]\n",
    "mergeSimilar(items1,items2)"
   ]
  },
  {
   "cell_type": "code",
   "execution_count": 69,
   "id": "d0cb886a",
   "metadata": {},
   "outputs": [
    {
     "data": {
      "text/plain": [
       "[[1, 7], [2, 4], [7, 1]]"
      ]
     },
     "execution_count": 69,
     "metadata": {},
     "output_type": "execute_result"
    }
   ],
   "source": [
    "items1 = [[1,3],[2,2]]\n",
    "items2 = [[7,1],[2,2],[1,4]]\n",
    "mergeSimilar(items1,items2)"
   ]
  },
  {
   "cell_type": "code",
   "execution_count": null,
   "id": "ca325e6e",
   "metadata": {},
   "outputs": [],
   "source": []
  },
  {
   "cell_type": "code",
   "execution_count": null,
   "id": "f7b86789",
   "metadata": {},
   "outputs": [],
   "source": []
  },
  {
   "cell_type": "code",
   "execution_count": null,
   "id": "4ab553c8",
   "metadata": {},
   "outputs": [],
   "source": []
  },
  {
   "cell_type": "markdown",
   "id": "0e4c0149",
   "metadata": {},
   "source": [
    "# 2351. First Letter to Appear Twice\n"
   ]
  },
  {
   "cell_type": "code",
   "execution_count": 4,
   "id": "f9fda3cc",
   "metadata": {},
   "outputs": [],
   "source": [
    "def repeatedCharacter(s):\n",
    "    print(s)\n",
    "    sDic = dict()\n",
    "    for i in s:\n",
    "        if i not in sDic:\n",
    "            sDic[i] = 1\n",
    "        else:\n",
    "            return i\n",
    "    "
   ]
  },
  {
   "cell_type": "code",
   "execution_count": 5,
   "id": "96c308d9",
   "metadata": {},
   "outputs": [
    {
     "name": "stdout",
     "output_type": "stream",
     "text": [
      "abccbaacz\n"
     ]
    },
    {
     "data": {
      "text/plain": [
       "'c'"
      ]
     },
     "execution_count": 5,
     "metadata": {},
     "output_type": "execute_result"
    }
   ],
   "source": [
    "s = \"abccbaacz\"\n",
    "repeatedCharacter(s)"
   ]
  },
  {
   "cell_type": "code",
   "execution_count": 6,
   "id": "2353ba84",
   "metadata": {},
   "outputs": [
    {
     "name": "stdout",
     "output_type": "stream",
     "text": [
      "abcdd\n"
     ]
    },
    {
     "data": {
      "text/plain": [
       "'d'"
      ]
     },
     "execution_count": 6,
     "metadata": {},
     "output_type": "execute_result"
    }
   ],
   "source": [
    "s = \"abcdd\"\n",
    "repeatedCharacter(s)"
   ]
  },
  {
   "cell_type": "code",
   "execution_count": null,
   "id": "b22fca50",
   "metadata": {},
   "outputs": [],
   "source": []
  },
  {
   "cell_type": "markdown",
   "id": "efd2f4d7",
   "metadata": {},
   "source": [
    "# 2570. Merge Two 2D Arrays by Summing Values"
   ]
  },
  {
   "cell_type": "code",
   "execution_count": 52,
   "id": "bdd657e4",
   "metadata": {},
   "outputs": [],
   "source": [
    "def mergeArrays(nums1,nums2):\n",
    "    #print(nums1,nums2)\n",
    "    resDic = dict()\n",
    "    for sArr in nums1:\n",
    "        key = sArr[0]\n",
    "        value = sArr[1]\n",
    "        #print(sArr[i],sArr[j])\n",
    "        if key not in resDic:\n",
    "            resDic[key] = value\n",
    "        else:\n",
    "            resDic[key]+=value\n",
    "    \n",
    "    for sArr in nums2:\n",
    "        key = sArr[0]\n",
    "        value = sArr[1]\n",
    "        if key in resDic:\n",
    "            resDic[key] +=value\n",
    "        else:\n",
    "            resDic[key] = value\n",
    "    \n",
    "    resDic = dict(sorted(resDic.items()))\n",
    "\n",
    "    return ([[key,value] for key,value in resDic.items()])\n",
    "                "
   ]
  },
  {
   "cell_type": "code",
   "execution_count": 53,
   "id": "e66bbcaa",
   "metadata": {},
   "outputs": [
    {
     "data": {
      "text/plain": [
       "[[1, 6], [2, 3], [3, 2], [4, 6]]"
      ]
     },
     "execution_count": 53,
     "metadata": {},
     "output_type": "execute_result"
    }
   ],
   "source": [
    "nums1 = [[1,2],[2,3],[4,5]]\n",
    "nums2 = [[1,4],[3,2],[4,1]]\n",
    "mergeArrays(nums1,nums2)"
   ]
  },
  {
   "cell_type": "code",
   "execution_count": 54,
   "id": "e6d0acbb",
   "metadata": {},
   "outputs": [
    {
     "data": {
      "text/plain": [
       "[[1, 3], [2, 4], [3, 6], [4, 3], [5, 5]]"
      ]
     },
     "execution_count": 54,
     "metadata": {},
     "output_type": "execute_result"
    }
   ],
   "source": [
    "nums1 = [[2,4],[3,6],[5,5]]\n",
    "nums2 = [[1,3],[4,3]]\n",
    "mergeArrays(nums1,nums2)"
   ]
  },
  {
   "cell_type": "code",
   "execution_count": null,
   "id": "36b935dc",
   "metadata": {},
   "outputs": [],
   "source": []
  },
  {
   "cell_type": "code",
   "execution_count": null,
   "id": "56a18a39",
   "metadata": {},
   "outputs": [],
   "source": []
  },
  {
   "cell_type": "markdown",
   "id": "f6322704",
   "metadata": {},
   "source": [
    "# 2206. Divide Array Into Equal Pairs"
   ]
  },
  {
   "cell_type": "code",
   "execution_count": 69,
   "id": "2835a54b",
   "metadata": {},
   "outputs": [],
   "source": [
    "def divideArray(nums):\n",
    "    #print(nums)\n",
    "    resDic = dict()\n",
    "    \n",
    "    for i in nums:\n",
    "        if i in resDic:\n",
    "            resDic[i]+=1\n",
    "        else:\n",
    "            resDic[i] = 1\n",
    "    \n",
    "    #print(resDic)\n",
    "    \n",
    "    for ele,val in resDic.items():\n",
    "        if val % 2 !=0:\n",
    "            return False\n",
    "    return True\n",
    "        \n",
    "    \n",
    "    "
   ]
  },
  {
   "cell_type": "code",
   "execution_count": 70,
   "id": "568f2e00",
   "metadata": {},
   "outputs": [
    {
     "data": {
      "text/plain": [
       "True"
      ]
     },
     "execution_count": 70,
     "metadata": {},
     "output_type": "execute_result"
    }
   ],
   "source": [
    "nums = [3,2,3,2,2,2]\n",
    "divideArray(nums)"
   ]
  },
  {
   "cell_type": "code",
   "execution_count": 71,
   "id": "752f8b7c",
   "metadata": {},
   "outputs": [
    {
     "data": {
      "text/plain": [
       "False"
      ]
     },
     "execution_count": 71,
     "metadata": {},
     "output_type": "execute_result"
    }
   ],
   "source": [
    "nums = [1,2,3,4]\n",
    "divideArray(nums)"
   ]
  },
  {
   "cell_type": "code",
   "execution_count": null,
   "id": "d8defdb3",
   "metadata": {},
   "outputs": [],
   "source": []
  },
  {
   "cell_type": "code",
   "execution_count": null,
   "id": "d09a79ac",
   "metadata": {},
   "outputs": [],
   "source": []
  },
  {
   "cell_type": "markdown",
   "id": "fbd4e4b1",
   "metadata": {},
   "source": [
    "# 1207. Unique Number of Occurrences"
   ]
  },
  {
   "cell_type": "code",
   "execution_count": 106,
   "id": "6f785992",
   "metadata": {},
   "outputs": [],
   "source": [
    "def uniqueOccurrences(arr):\n",
    "    #print(arr)\n",
    "    \n",
    "    arrDic = dict()\n",
    "    for i in arr:\n",
    "        if i not in arrDic:\n",
    "            arrDic[i] = 1\n",
    "        else:\n",
    "            arrDic[i]+=1\n",
    "    \n",
    "    #print(arrDic)\n",
    "    arrSet = set()\n",
    "    \n",
    "    for item,value in arrDic.items():\n",
    "        if value in arrSet:\n",
    "            return False\n",
    "        else:\n",
    "            arrSet.add(value)\n",
    "    \n",
    "    return True\n",
    "    \n",
    "    \n",
    "    \n",
    "    \n",
    "    "
   ]
  },
  {
   "cell_type": "code",
   "execution_count": 107,
   "id": "4c1c74d2",
   "metadata": {},
   "outputs": [
    {
     "data": {
      "text/plain": [
       "True"
      ]
     },
     "execution_count": 107,
     "metadata": {},
     "output_type": "execute_result"
    }
   ],
   "source": [
    "arr = [1,2,2,1,1,3]\n",
    "uniqueOccurrences(arr)"
   ]
  },
  {
   "cell_type": "code",
   "execution_count": 108,
   "id": "64a76e29",
   "metadata": {},
   "outputs": [
    {
     "data": {
      "text/plain": [
       "False"
      ]
     },
     "execution_count": 108,
     "metadata": {},
     "output_type": "execute_result"
    }
   ],
   "source": [
    "arr = [1,2]\n",
    "uniqueOccurrences(arr)"
   ]
  },
  {
   "cell_type": "code",
   "execution_count": 109,
   "id": "348a7419",
   "metadata": {},
   "outputs": [
    {
     "data": {
      "text/plain": [
       "True"
      ]
     },
     "execution_count": 109,
     "metadata": {},
     "output_type": "execute_result"
    }
   ],
   "source": [
    "arr = [-3,0,1,-3,1,1,1,-3,10,0]\n",
    "uniqueOccurrences(arr)"
   ]
  },
  {
   "cell_type": "code",
   "execution_count": null,
   "id": "6e0351eb",
   "metadata": {},
   "outputs": [],
   "source": []
  },
  {
   "cell_type": "code",
   "execution_count": null,
   "id": "e2787889",
   "metadata": {},
   "outputs": [],
   "source": []
  },
  {
   "cell_type": "code",
   "execution_count": null,
   "id": "e9198f41",
   "metadata": {},
   "outputs": [],
   "source": []
  },
  {
   "cell_type": "markdown",
   "id": "aedcf32c",
   "metadata": {},
   "source": [
    "# 2716. Minimize String Length"
   ]
  },
  {
   "cell_type": "code",
   "execution_count": 137,
   "id": "bd81991d",
   "metadata": {},
   "outputs": [],
   "source": [
    "def minimizedStringLength(s):\n",
    "    return (len(set(s)))\n",
    "            \n",
    "    "
   ]
  },
  {
   "cell_type": "code",
   "execution_count": 138,
   "id": "844219b4",
   "metadata": {},
   "outputs": [
    {
     "data": {
      "text/plain": [
       "3"
      ]
     },
     "execution_count": 138,
     "metadata": {},
     "output_type": "execute_result"
    }
   ],
   "source": [
    "s = \"aaabc\"\n",
    "minimizedStringLength(s)"
   ]
  },
  {
   "cell_type": "code",
   "execution_count": 139,
   "id": "6ad693b3",
   "metadata": {},
   "outputs": [
    {
     "data": {
      "text/plain": [
       "3"
      ]
     },
     "execution_count": 139,
     "metadata": {},
     "output_type": "execute_result"
    }
   ],
   "source": [
    "s = \"cbbd\"\n",
    "minimizedStringLength(s)"
   ]
  },
  {
   "cell_type": "code",
   "execution_count": 140,
   "id": "e51cfdee",
   "metadata": {},
   "outputs": [
    {
     "data": {
      "text/plain": [
       "2"
      ]
     },
     "execution_count": 140,
     "metadata": {},
     "output_type": "execute_result"
    }
   ],
   "source": [
    "s = \"dddaaa\"\n",
    "minimizedStringLength(s)"
   ]
  },
  {
   "cell_type": "code",
   "execution_count": null,
   "id": "28f1cf92",
   "metadata": {},
   "outputs": [],
   "source": []
  },
  {
   "cell_type": "code",
   "execution_count": null,
   "id": "d082d91e",
   "metadata": {},
   "outputs": [],
   "source": []
  },
  {
   "cell_type": "markdown",
   "id": "dd3f5c7d",
   "metadata": {},
   "source": []
  },
  {
   "cell_type": "code",
   "execution_count": null,
   "id": "4219c9be",
   "metadata": {},
   "outputs": [],
   "source": []
  },
  {
   "cell_type": "code",
   "execution_count": 76,
   "id": "ab4b1c16",
   "metadata": {},
   "outputs": [],
   "source": [
    "def canBeTypedWords(text,brokenLetters):\n",
    "    #print(text,brokenLetters)\n",
    "    ans = 0\n",
    "    for i in text.split(\" \"):\n",
    "        #print(i)\n",
    "        for cha in i:\n",
    "            #print(cha)\n",
    "            if cha in brokenLetters:\n",
    "                ans-=1\n",
    "                #print(ans , cha)\n",
    "                break\n",
    "        ans+=1\n",
    "        #print(ans , cha)\n",
    "    \n",
    "    print(ans)"
   ]
  },
  {
   "cell_type": "code",
   "execution_count": 77,
   "id": "e5786df6",
   "metadata": {},
   "outputs": [
    {
     "name": "stdout",
     "output_type": "stream",
     "text": [
      "1\n"
     ]
    }
   ],
   "source": [
    "text = \"hello world\"\n",
    "brokenLetters = \"ad\"\n",
    "canBeTypedWords(text,brokenLetters)"
   ]
  },
  {
   "cell_type": "code",
   "execution_count": 78,
   "id": "d5a4fa3f",
   "metadata": {},
   "outputs": [
    {
     "name": "stdout",
     "output_type": "stream",
     "text": [
      "1\n"
     ]
    }
   ],
   "source": [
    "text = \"leet code\"\n",
    "brokenLetters = \"lt\"\n",
    "canBeTypedWords(text,brokenLetters)"
   ]
  },
  {
   "cell_type": "code",
   "execution_count": 79,
   "id": "8a9016ed",
   "metadata": {},
   "outputs": [
    {
     "name": "stdout",
     "output_type": "stream",
     "text": [
      "0\n"
     ]
    }
   ],
   "source": [
    "text = \"leet code\"\n",
    "brokenLetters = \"e\"\n",
    "canBeTypedWords(text,brokenLetters)"
   ]
  },
  {
   "cell_type": "code",
   "execution_count": null,
   "id": "b8554e65",
   "metadata": {},
   "outputs": [],
   "source": []
  },
  {
   "cell_type": "code",
   "execution_count": 80,
   "id": "9d4b577c",
   "metadata": {},
   "outputs": [
    {
     "name": "stdout",
     "output_type": "stream",
     "text": [
      "0\n"
     ]
    }
   ],
   "source": [
    "text = \"a b c d e\"\n",
    "brokenLetters = \"abcde\"\n",
    "canBeTypedWords(text,brokenLetters)"
   ]
  },
  {
   "cell_type": "code",
   "execution_count": null,
   "id": "73929467",
   "metadata": {},
   "outputs": [],
   "source": []
  },
  {
   "cell_type": "code",
   "execution_count": null,
   "id": "4d1ef7d9",
   "metadata": {},
   "outputs": [],
   "source": []
  },
  {
   "cell_type": "markdown",
   "id": "bd12f88f",
   "metadata": {},
   "source": [
    "# 389. Find the Difference\n"
   ]
  },
  {
   "cell_type": "code",
   "execution_count": 16,
   "id": "52ef62e0",
   "metadata": {},
   "outputs": [],
   "source": [
    "def findTheDifference(s,t):\n",
    "    print(s,t)\n",
    "    s_dict = dict()\n",
    "    t_dict = dict()\n",
    "    \n",
    "    for i in s:\n",
    "        if i not in s_dict:\n",
    "            s_dict[i] = 1\n",
    "        else:\n",
    "            s_dict[i]+=1\n",
    "    for i in t:\n",
    "        if i not in t_dict:\n",
    "            t_dict[i] = 1\n",
    "        else:\n",
    "            t_dict[i]+=1\n",
    "    \n",
    "    print(s_dict,t_dict)\n",
    "    \n",
    "    for char,count in t_dict.items():\n",
    "        if char not in s_dict or count > s_dict[char]:\n",
    "            return char\n",
    "    "
   ]
  },
  {
   "cell_type": "code",
   "execution_count": 22,
   "id": "cac2262e",
   "metadata": {},
   "outputs": [
    {
     "name": "stdout",
     "output_type": "stream",
     "text": [
      "Counter({'a': 1, 'b': 1, 'c': 1, 'd': 1}) Counter({'a': 1, 'b': 1, 'c': 1, 'd': 1, 'e': 1})\n"
     ]
    },
    {
     "data": {
      "text/plain": [
       "'e'"
      ]
     },
     "execution_count": 22,
     "metadata": {},
     "output_type": "execute_result"
    }
   ],
   "source": [
    "s = \"abcd\"\n",
    "t = \"abcde\"\n",
    "findTheDifference(s,t)"
   ]
  },
  {
   "cell_type": "code",
   "execution_count": 23,
   "id": "e9e29cd6",
   "metadata": {},
   "outputs": [
    {
     "name": "stdout",
     "output_type": "stream",
     "text": [
      "Counter({'a': 1}) Counter({'a': 2})\n"
     ]
    },
    {
     "data": {
      "text/plain": [
       "'a'"
      ]
     },
     "execution_count": 23,
     "metadata": {},
     "output_type": "execute_result"
    }
   ],
   "source": [
    "s =\"a\"\n",
    "t =\"aa\"\n",
    "findTheDifference(s,t)"
   ]
  },
  {
   "cell_type": "code",
   "execution_count": 24,
   "id": "4aa95e26",
   "metadata": {},
   "outputs": [],
   "source": [
    "from collections import Counter\n",
    "def findTheDifference(s,t):\n",
    "    s_dict = Counter(s)\n",
    "    t_dict = Counter(t)\n",
    "    print(s_dict,t_dict)\n",
    "    \n",
    "    for char,count in t_dict.items():\n",
    "        if char not in s_dict or count > s_dict[char]:\n",
    "            return char\n"
   ]
  },
  {
   "cell_type": "code",
   "execution_count": null,
   "id": "843b605f",
   "metadata": {},
   "outputs": [],
   "source": []
  },
  {
   "cell_type": "code",
   "execution_count": null,
   "id": "f9b61e26",
   "metadata": {},
   "outputs": [],
   "source": []
  },
  {
   "cell_type": "code",
   "execution_count": null,
   "id": "dda8bf13",
   "metadata": {},
   "outputs": [],
   "source": []
  },
  {
   "cell_type": "code",
   "execution_count": null,
   "id": "fe2e7212",
   "metadata": {},
   "outputs": [],
   "source": []
  },
  {
   "cell_type": "code",
   "execution_count": null,
   "id": "9c5e4b09",
   "metadata": {},
   "outputs": [],
   "source": []
  },
  {
   "cell_type": "code",
   "execution_count": null,
   "id": "38b0042a",
   "metadata": {},
   "outputs": [],
   "source": []
  },
  {
   "cell_type": "code",
   "execution_count": null,
   "id": "10ebb84b",
   "metadata": {},
   "outputs": [],
   "source": []
  }
 ],
 "metadata": {
  "kernelspec": {
   "display_name": "Python 3 (ipykernel)",
   "language": "python",
   "name": "python3"
  },
  "language_info": {
   "codemirror_mode": {
    "name": "ipython",
    "version": 3
   },
   "file_extension": ".py",
   "mimetype": "text/x-python",
   "name": "python",
   "nbconvert_exporter": "python",
   "pygments_lexer": "ipython3",
   "version": "3.11.3"
  }
 },
 "nbformat": 4,
 "nbformat_minor": 5
}
